{
 "cells": [
  {
   "cell_type": "markdown",
   "metadata": {},
   "source": [
    "# Homework 02 --- Session 3, Multilinear regression"
   ]
  },
  {
   "cell_type": "markdown",
   "metadata": {
    "collapsed": true
   },
   "source": [
    "## EX 1 Artificial data (25pt -- 5+5+5+10)\n",
    "### Dataset 'H31.csv'\n",
    "### Tasks:\n",
    "Consider a multivariate regression of the output variable $y$ over the 3 regressors $x_1$, $x_2$, $x_3$ as follows.\n",
    "* (a) Which one of the regressors serves as dummy variable corresponding to an intercept term?\n",
    "    * Ignore the first column since it's just a duplicate index (You can avoid it by running **ex1 = pd.read_csv('H31.csv', index_col=0)** )\n",
    "* (b) Calculate the coefficients $\\hat w$ manually or with python *numpy* module by using matrix computation.\n",
    "* (c) Verify your answer by implementing the OLS regression function with python *statsmodels* module.\n",
    "* (d) Visualize the data points and your fitted model in a 3D plot, like we did in the lab session."
   ]
  },
  {
   "cell_type": "code",
   "execution_count": 3,
   "metadata": {},
   "outputs": [
    {
     "name": "stdout",
     "output_type": "stream",
     "text": [
      "Populating the interactive namespace from numpy and matplotlib\n"
     ]
    },
    {
     "name": "stderr",
     "output_type": "stream",
     "text": [
      "/home/sunglyoung/.local/lib/python2.7/site-packages/IPython/core/magics/pylab.py:161: UserWarning: pylab import has clobbered these variables: ['f']\n",
      "`%matplotlib` prevents importing * from pylab and numpy\n",
      "  \"\\n`%matplotlib` prevents importing * from pylab and numpy\"\n"
     ]
    }
   ],
   "source": [
    "import numpy as np   # basic numeric module in python, for array and matrix computation\n",
    "import pandas as pd  # advanced numeric module, excels in data frame analysis\n",
    "import matplotlib.pyplot as plt  # for data visualization\n",
    "%pylab inline\n",
    "# so the plots are embedded in notebook rather than a stand alone window\n",
    "\n",
    "from mpl_toolkits.mplot3d import Axes3D  # for 3D plot\n",
    "import statsmodels.formula.api as smf    # for OLS regression\n"
   ]
  },
  {
   "cell_type": "code",
   "execution_count": 4,
   "metadata": {},
   "outputs": [
    {
     "data": {
      "text/html": [
       "<div>\n",
       "<style>\n",
       "    .dataframe thead tr:only-child th {\n",
       "        text-align: right;\n",
       "    }\n",
       "\n",
       "    .dataframe thead th {\n",
       "        text-align: left;\n",
       "    }\n",
       "\n",
       "    .dataframe tbody tr th {\n",
       "        vertical-align: top;\n",
       "    }\n",
       "</style>\n",
       "<table border=\"1\" class=\"dataframe\">\n",
       "  <thead>\n",
       "    <tr style=\"text-align: right;\">\n",
       "      <th></th>\n",
       "      <th>Unnamed: 0</th>\n",
       "      <th>y</th>\n",
       "      <th>x1</th>\n",
       "      <th>x2</th>\n",
       "      <th>x3</th>\n",
       "    </tr>\n",
       "  </thead>\n",
       "  <tbody>\n",
       "    <tr>\n",
       "      <th>0</th>\n",
       "      <td>1</td>\n",
       "      <td>0</td>\n",
       "      <td>1</td>\n",
       "      <td>-2</td>\n",
       "      <td>1</td>\n",
       "    </tr>\n",
       "    <tr>\n",
       "      <th>1</th>\n",
       "      <td>2</td>\n",
       "      <td>2</td>\n",
       "      <td>-1</td>\n",
       "      <td>-1</td>\n",
       "      <td>1</td>\n",
       "    </tr>\n",
       "    <tr>\n",
       "      <th>2</th>\n",
       "      <td>3</td>\n",
       "      <td>2</td>\n",
       "      <td>0</td>\n",
       "      <td>0</td>\n",
       "      <td>1</td>\n",
       "    </tr>\n",
       "    <tr>\n",
       "      <th>3</th>\n",
       "      <td>4</td>\n",
       "      <td>3</td>\n",
       "      <td>-1</td>\n",
       "      <td>1</td>\n",
       "      <td>1</td>\n",
       "    </tr>\n",
       "    <tr>\n",
       "      <th>4</th>\n",
       "      <td>5</td>\n",
       "      <td>3</td>\n",
       "      <td>1</td>\n",
       "      <td>2</td>\n",
       "      <td>1</td>\n",
       "    </tr>\n",
       "  </tbody>\n",
       "</table>\n",
       "</div>"
      ],
      "text/plain": [
       "   Unnamed: 0  y  x1  x2  x3\n",
       "0           1  0   1  -2   1\n",
       "1           2  2  -1  -1   1\n",
       "2           3  2   0   0   1\n",
       "3           4  3  -1   1   1\n",
       "4           5  3   1   2   1"
      ]
     },
     "execution_count": 4,
     "metadata": {},
     "output_type": "execute_result"
    }
   ],
   "source": [
    "H31 = pd.read_csv('data/H31.csv')\n",
    "H31.head()"
   ]
  },
  {
   "cell_type": "markdown",
   "metadata": {},
   "source": [
    "(a) Which one of the regressors serves as dummy variable corresponding to an intercept term?\n",
    "    * Ignore the first column since it's just a duplicate index (You can avoid it by running **ex1 = pd.read_csv('H31.csv', index_col=0)** )"
   ]
  },
  {
   "cell_type": "markdown",
   "metadata": {},
   "source": [
    "x3"
   ]
  },
  {
   "cell_type": "markdown",
   "metadata": {},
   "source": [
    "(b) Calculate the coefficients $\\hat w$ manually or with python *numpy* module by using matrix computation.\n"
   ]
  },
  {
   "cell_type": "code",
   "execution_count": null,
   "metadata": {
    "collapsed": true
   },
   "outputs": [],
   "source": []
  },
  {
   "cell_type": "code",
   "execution_count": 5,
   "metadata": {},
   "outputs": [
    {
     "name": "stdout",
     "output_type": "stream",
     "text": [
      "[[-0.5]\n",
      " [ 0.7]\n",
      " [ 2. ]]\n"
     ]
    }
   ],
   "source": [
    "\n",
    "#Q2. Create X and Y in matrix form then use matrix computation formula to calculate the coefficients\n",
    "X = np.matrix(H31.loc[:,['x1','x2','x3']])\n",
    "Y = np.matrix(H31.loc[:,['y']])\n",
    "w = (X.T * X).I * X.T * Y\n",
    "print(w)"
   ]
  },
  {
   "cell_type": "code",
   "execution_count": 6,
   "metadata": {},
   "outputs": [
    {
     "data": {
      "text/plain": [
       "matrix([[-0.5],\n",
       "        [ 0.7],\n",
       "        [ 2. ]])"
      ]
     },
     "execution_count": 6,
     "metadata": {},
     "output_type": "execute_result"
    }
   ],
   "source": [
    "(X.T*X).I*X.T*Y"
   ]
  },
  {
   "cell_type": "code",
   "execution_count": 7,
   "metadata": {},
   "outputs": [
    {
     "data": {
      "text/plain": [
       "matrix([[0],\n",
       "        [2],\n",
       "        [2],\n",
       "        [3],\n",
       "        [3]])"
      ]
     },
     "execution_count": 7,
     "metadata": {},
     "output_type": "execute_result"
    }
   ],
   "source": [
    "Y"
   ]
  },
  {
   "cell_type": "markdown",
   "metadata": {},
   "source": [
    "(c) Verify your answer by implementing the OLS regression function with python *statsmodels* module."
   ]
  },
  {
   "cell_type": "code",
   "execution_count": 8,
   "metadata": {
    "scrolled": true
   },
   "outputs": [
    {
     "name": "stdout",
     "output_type": "stream",
     "text": [
      "R2 = 0.983333\n",
      "Intercept    1.0\n",
      "x1          -0.5\n",
      "x2           0.7\n",
      "x3           1.0\n",
      "dtype: float64\n"
     ]
    }
   ],
   "source": [
    "lm1 = smf.ols(formula = 'y ~ x1 + x2 + x3', data = H31).fit()\n",
    "print('R2 = %f'%lm1.rsquared)\n",
    "print(lm1.params)"
   ]
  },
  {
   "cell_type": "markdown",
   "metadata": {},
   "source": [
    "(d) Visualize the data points and your fitted model in a 3D plot, like we did in the lab session."
   ]
  },
  {
   "cell_type": "code",
   "execution_count": 9,
   "metadata": {},
   "outputs": [
    {
     "data": {
      "text/html": [
       "<div>\n",
       "<style>\n",
       "    .dataframe thead tr:only-child th {\n",
       "        text-align: right;\n",
       "    }\n",
       "\n",
       "    .dataframe thead th {\n",
       "        text-align: left;\n",
       "    }\n",
       "\n",
       "    .dataframe tbody tr th {\n",
       "        vertical-align: top;\n",
       "    }\n",
       "</style>\n",
       "<table border=\"1\" class=\"dataframe\">\n",
       "  <thead>\n",
       "    <tr style=\"text-align: right;\">\n",
       "      <th></th>\n",
       "      <th>Unnamed: 0</th>\n",
       "      <th>y</th>\n",
       "      <th>x1</th>\n",
       "      <th>x2</th>\n",
       "      <th>x3</th>\n",
       "    </tr>\n",
       "  </thead>\n",
       "  <tbody>\n",
       "    <tr>\n",
       "      <th>count</th>\n",
       "      <td>5.000000</td>\n",
       "      <td>5.000000</td>\n",
       "      <td>5.0</td>\n",
       "      <td>5.000000</td>\n",
       "      <td>5.0</td>\n",
       "    </tr>\n",
       "    <tr>\n",
       "      <th>mean</th>\n",
       "      <td>3.000000</td>\n",
       "      <td>2.000000</td>\n",
       "      <td>0.0</td>\n",
       "      <td>0.000000</td>\n",
       "      <td>1.0</td>\n",
       "    </tr>\n",
       "    <tr>\n",
       "      <th>std</th>\n",
       "      <td>1.581139</td>\n",
       "      <td>1.224745</td>\n",
       "      <td>1.0</td>\n",
       "      <td>1.581139</td>\n",
       "      <td>0.0</td>\n",
       "    </tr>\n",
       "    <tr>\n",
       "      <th>min</th>\n",
       "      <td>1.000000</td>\n",
       "      <td>0.000000</td>\n",
       "      <td>-1.0</td>\n",
       "      <td>-2.000000</td>\n",
       "      <td>1.0</td>\n",
       "    </tr>\n",
       "    <tr>\n",
       "      <th>25%</th>\n",
       "      <td>2.000000</td>\n",
       "      <td>2.000000</td>\n",
       "      <td>-1.0</td>\n",
       "      <td>-1.000000</td>\n",
       "      <td>1.0</td>\n",
       "    </tr>\n",
       "    <tr>\n",
       "      <th>50%</th>\n",
       "      <td>3.000000</td>\n",
       "      <td>2.000000</td>\n",
       "      <td>0.0</td>\n",
       "      <td>0.000000</td>\n",
       "      <td>1.0</td>\n",
       "    </tr>\n",
       "    <tr>\n",
       "      <th>75%</th>\n",
       "      <td>4.000000</td>\n",
       "      <td>3.000000</td>\n",
       "      <td>1.0</td>\n",
       "      <td>1.000000</td>\n",
       "      <td>1.0</td>\n",
       "    </tr>\n",
       "    <tr>\n",
       "      <th>max</th>\n",
       "      <td>5.000000</td>\n",
       "      <td>3.000000</td>\n",
       "      <td>1.0</td>\n",
       "      <td>2.000000</td>\n",
       "      <td>1.0</td>\n",
       "    </tr>\n",
       "  </tbody>\n",
       "</table>\n",
       "</div>"
      ],
      "text/plain": [
       "       Unnamed: 0         y   x1        x2   x3\n",
       "count    5.000000  5.000000  5.0  5.000000  5.0\n",
       "mean     3.000000  2.000000  0.0  0.000000  1.0\n",
       "std      1.581139  1.224745  1.0  1.581139  0.0\n",
       "min      1.000000  0.000000 -1.0 -2.000000  1.0\n",
       "25%      2.000000  2.000000 -1.0 -1.000000  1.0\n",
       "50%      3.000000  2.000000  0.0  0.000000  1.0\n",
       "75%      4.000000  3.000000  1.0  1.000000  1.0\n",
       "max      5.000000  3.000000  1.0  2.000000  1.0"
      ]
     },
     "execution_count": 9,
     "metadata": {},
     "output_type": "execute_result"
    }
   ],
   "source": [
    "H31.describe()"
   ]
  },
  {
   "cell_type": "code",
   "execution_count": 10,
   "metadata": {},
   "outputs": [
    {
     "data": {
      "image/png": "[encoded data removed]",
      "text/plain": [
       "<matplotlib.figure.Figure at 0x7fd67fb30dd0>"
      ]
     },
     "metadata": {},
     "output_type": "display_data"
    }
   ],
   "source": [
    "fig = plt.figure(figsize = (12,10))  # Create a plot with customized figure size (width, height)\n",
    "ax = fig.gca(projection='3d')  # Extract the axis for further operations\n",
    "ax.scatter(H31.x1, H31.x2, H31.y, s = 100,  c = 'r')\n",
    "# Scatter plot, \"c\" stands for color, and \"s\" determines the marker size\n",
    "\n",
    "# Generate coordinates for hyperplane\n",
    "radius = 5\n",
    "x1, x2, = np.meshgrid(range(-radius,radius), range(-radius,radius))\n",
    "fit_y = lm1.params[0] + lm1.params[1] * x1 + lm1.params[2] * x2 \n",
    "\n",
    "#alpha (between 0 and 1) controls the transparency with 0 being totally transparent\n",
    "ax.plot_surface(x1, x2, fit_y, color='c', alpha = 0.4)\n",
    "# Set labels and fontsize\n",
    "ax.set_xlabel('$x_1$', fontsize = 20)\n",
    "ax.set_ylabel('$x_2$', fontsize = 20)\n",
    "ax.set_zlabel('$y$', fontsize = 20)\n",
    "\n",
    "ax.view_init(azim = 60)   # Controls the viewing angle"
   ]
  },
  {
   "cell_type": "markdown",
   "metadata": {},
   "source": [
    "## EX 2, Income vs Insurance coverage (35+10pt -- 10+10+5+10+10)\n",
    "### Dataset 'IncomeInsReg.csv'\n",
    "You are given the demographic data of insurance coverage in NYC, with the details:\n",
    "* Zip code\n",
    "* Per capita income\n",
    "* Total population (for each zip code)\n",
    "* Population with Insurance coverage\n",
    "    * Population with Public Insurance coverage\n",
    "    * Population with Private Insurance coverage\n",
    "* Population with No Insurance coverage\n",
    "\n",
    "### Tasks:\n",
    "* (a) Verify that there are some people with BOTH public insurance and private insurance according to this data set, then create a new column containing such information\n",
    "* (b) Modify the old data frame, or simply create a new one, such that this data frame contains (including but not limited to) the following information in each zipcode area:\n",
    "    * IncomePerCapita\n",
    "    * Total Population\n",
    "    * Population with Public Insurance coverage ONLY\n",
    "    * Population with Private Insurance coverage ONLY\n",
    "    * Population with NO Insurance coverage\n",
    "    * Population with BOTH types of Insurance coverage\n",
    "* (c) Drop rows with NaN (if any) and convert all population counts into proportions (percentage of total population, with the form 58.3 instead of 0.583)\n",
    "* (d) Regress over these proportions (the ones mentioned in part b, leave out \"No Insurance Coverage\") to predict income -- What interesting results do we have here? Briefly state what you've obtained.\n",
    "#### Extra credit:\n",
    "* (e) Visualize the observed income versus the predicted income, like what we did in the lab session. Does this fitted line look great or not? If you're not sure, check the correlation matrix and make a guess."
   ]
  },
  {
   "cell_type": "markdown",
   "metadata": {},
   "source": [
    "(a) Verify that there are some people with BOTH public insurance and private insurance according to this data set, then create a new column containing such information"
   ]
  },
  {
   "cell_type": "code",
   "execution_count": 11,
   "metadata": {
    "scrolled": true
   },
   "outputs": [
    {
     "data": {
      "text/html": [
       "<div>\n",
       "<style>\n",
       "    .dataframe thead tr:only-child th {\n",
       "        text-align: right;\n",
       "    }\n",
       "\n",
       "    .dataframe thead th {\n",
       "        text-align: left;\n",
       "    }\n",
       "\n",
       "    .dataframe tbody tr th {\n",
       "        vertical-align: top;\n",
       "    }\n",
       "</style>\n",
       "<table border=\"1\" class=\"dataframe\">\n",
       "  <thead>\n",
       "    <tr style=\"text-align: right;\">\n",
       "      <th></th>\n",
       "      <th>Zipcode</th>\n",
       "      <th>IncomePerCapita</th>\n",
       "      <th>TotalPop</th>\n",
       "      <th>WithCoverage</th>\n",
       "      <th>Public</th>\n",
       "      <th>Private</th>\n",
       "      <th>NoCoverage</th>\n",
       "    </tr>\n",
       "  </thead>\n",
       "  <tbody>\n",
       "    <tr>\n",
       "      <th>0</th>\n",
       "      <td>10001</td>\n",
       "      <td>77512.0</td>\n",
       "      <td>22767</td>\n",
       "      <td>20809</td>\n",
       "      <td>5800</td>\n",
       "      <td>16795</td>\n",
       "      <td>1958</td>\n",
       "    </tr>\n",
       "    <tr>\n",
       "      <th>1</th>\n",
       "      <td>10002</td>\n",
       "      <td>26905.0</td>\n",
       "      <td>79490</td>\n",
       "      <td>70361</td>\n",
       "      <td>40139</td>\n",
       "      <td>35167</td>\n",
       "      <td>9129</td>\n",
       "    </tr>\n",
       "    <tr>\n",
       "      <th>2</th>\n",
       "      <td>10003</td>\n",
       "      <td>79088.0</td>\n",
       "      <td>56909</td>\n",
       "      <td>53135</td>\n",
       "      <td>8593</td>\n",
       "      <td>48522</td>\n",
       "      <td>3774</td>\n",
       "    </tr>\n",
       "    <tr>\n",
       "      <th>3</th>\n",
       "      <td>10004</td>\n",
       "      <td>98020.0</td>\n",
       "      <td>3024</td>\n",
       "      <td>2780</td>\n",
       "      <td>180</td>\n",
       "      <td>2705</td>\n",
       "      <td>244</td>\n",
       "    </tr>\n",
       "    <tr>\n",
       "      <th>4</th>\n",
       "      <td>10005</td>\n",
       "      <td>99633.0</td>\n",
       "      <td>7566</td>\n",
       "      <td>6996</td>\n",
       "      <td>122</td>\n",
       "      <td>6944</td>\n",
       "      <td>570</td>\n",
       "    </tr>\n",
       "  </tbody>\n",
       "</table>\n",
       "</div>"
      ],
      "text/plain": [
       "   Zipcode  IncomePerCapita  TotalPop  WithCoverage  Public  Private  \\\n",
       "0    10001          77512.0     22767         20809    5800    16795   \n",
       "1    10002          26905.0     79490         70361   40139    35167   \n",
       "2    10003          79088.0     56909         53135    8593    48522   \n",
       "3    10004          98020.0      3024          2780     180     2705   \n",
       "4    10005          99633.0      7566          6996     122     6944   \n",
       "\n",
       "   NoCoverage  \n",
       "0        1958  \n",
       "1        9129  \n",
       "2        3774  \n",
       "3         244  \n",
       "4         570  "
      ]
     },
     "execution_count": 11,
     "metadata": {},
     "output_type": "execute_result"
    }
   ],
   "source": [
    "data = pd.read_csv('data/IncomeInsReg.csv')\n",
    "data.head()"
   ]
  },
  {
   "cell_type": "code",
   "execution_count": 12,
   "metadata": {},
   "outputs": [
    {
     "data": {
      "text/plain": [
       "(206, 7)"
      ]
     },
     "execution_count": 12,
     "metadata": {},
     "output_type": "execute_result"
    }
   ],
   "source": [
    "data.shape"
   ]
  },
  {
   "cell_type": "code",
   "execution_count": 13,
   "metadata": {
    "collapsed": true
   },
   "outputs": [],
   "source": [
    "data['Both'] = (data['Public'] + data['Private'])-data['WithCoverage']"
   ]
  },
  {
   "cell_type": "code",
   "execution_count": 14,
   "metadata": {},
   "outputs": [
    {
     "data": {
      "text/html": [
       "<div>\n",
       "<style>\n",
       "    .dataframe thead tr:only-child th {\n",
       "        text-align: right;\n",
       "    }\n",
       "\n",
       "    .dataframe thead th {\n",
       "        text-align: left;\n",
       "    }\n",
       "\n",
       "    .dataframe tbody tr th {\n",
       "        vertical-align: top;\n",
       "    }\n",
       "</style>\n",
       "<table border=\"1\" class=\"dataframe\">\n",
       "  <thead>\n",
       "    <tr style=\"text-align: right;\">\n",
       "      <th></th>\n",
       "      <th>Zipcode</th>\n",
       "      <th>IncomePerCapita</th>\n",
       "      <th>TotalPop</th>\n",
       "      <th>WithCoverage</th>\n",
       "      <th>Public</th>\n",
       "      <th>Private</th>\n",
       "      <th>NoCoverage</th>\n",
       "      <th>Both</th>\n",
       "    </tr>\n",
       "  </thead>\n",
       "  <tbody>\n",
       "    <tr>\n",
       "      <th>0</th>\n",
       "      <td>10001</td>\n",
       "      <td>77512.0</td>\n",
       "      <td>22767</td>\n",
       "      <td>20809</td>\n",
       "      <td>5800</td>\n",
       "      <td>16795</td>\n",
       "      <td>1958</td>\n",
       "      <td>1786</td>\n",
       "    </tr>\n",
       "    <tr>\n",
       "      <th>1</th>\n",
       "      <td>10002</td>\n",
       "      <td>26905.0</td>\n",
       "      <td>79490</td>\n",
       "      <td>70361</td>\n",
       "      <td>40139</td>\n",
       "      <td>35167</td>\n",
       "      <td>9129</td>\n",
       "      <td>4945</td>\n",
       "    </tr>\n",
       "    <tr>\n",
       "      <th>2</th>\n",
       "      <td>10003</td>\n",
       "      <td>79088.0</td>\n",
       "      <td>56909</td>\n",
       "      <td>53135</td>\n",
       "      <td>8593</td>\n",
       "      <td>48522</td>\n",
       "      <td>3774</td>\n",
       "      <td>3980</td>\n",
       "    </tr>\n",
       "    <tr>\n",
       "      <th>3</th>\n",
       "      <td>10004</td>\n",
       "      <td>98020.0</td>\n",
       "      <td>3024</td>\n",
       "      <td>2780</td>\n",
       "      <td>180</td>\n",
       "      <td>2705</td>\n",
       "      <td>244</td>\n",
       "      <td>105</td>\n",
       "    </tr>\n",
       "    <tr>\n",
       "      <th>4</th>\n",
       "      <td>10005</td>\n",
       "      <td>99633.0</td>\n",
       "      <td>7566</td>\n",
       "      <td>6996</td>\n",
       "      <td>122</td>\n",
       "      <td>6944</td>\n",
       "      <td>570</td>\n",
       "      <td>70</td>\n",
       "    </tr>\n",
       "  </tbody>\n",
       "</table>\n",
       "</div>"
      ],
      "text/plain": [
       "   Zipcode  IncomePerCapita  TotalPop  WithCoverage  Public  Private  \\\n",
       "0    10001          77512.0     22767         20809    5800    16795   \n",
       "1    10002          26905.0     79490         70361   40139    35167   \n",
       "2    10003          79088.0     56909         53135    8593    48522   \n",
       "3    10004          98020.0      3024          2780     180     2705   \n",
       "4    10005          99633.0      7566          6996     122     6944   \n",
       "\n",
       "   NoCoverage  Both  \n",
       "0        1958  1786  \n",
       "1        9129  4945  \n",
       "2        3774  3980  \n",
       "3         244   105  \n",
       "4         570    70  "
      ]
     },
     "execution_count": 14,
     "metadata": {},
     "output_type": "execute_result"
    }
   ],
   "source": [
    "data.head()"
   ]
  },
  {
   "cell_type": "markdown",
   "metadata": {},
   "source": [
    "(b) Modify the old data frame, or simply create a new one, such that this data frame contains (including but not limited to) the following information in each zipcode area:\n",
    "    * IncomePerCapita\n",
    "    * Total Population\n",
    "    * Population with Public Insurance coverage ONLY\n",
    "    * Population with Private Insurance coverage ONLY\n",
    "    * Population with NO Insurance coverage\n",
    "    * Population with BOTH types of Insurance coverage\n"
   ]
  },
  {
   "cell_type": "code",
   "execution_count": 15,
   "metadata": {
    "collapsed": true
   },
   "outputs": [],
   "source": [
    "data['Private_Only'] = data['Private']-data['Both']\n",
    "data['Public_Only'] = data['Public']-data['Both']\n",
    "data['No_Insurace'] = data['TotalPop']-( data['WithCoverage'])"
   ]
  },
  {
   "cell_type": "code",
   "execution_count": 16,
   "metadata": {
    "scrolled": true
   },
   "outputs": [
    {
     "data": {
      "text/html": [
       "<div>\n",
       "<style>\n",
       "    .dataframe thead tr:only-child th {\n",
       "        text-align: right;\n",
       "    }\n",
       "\n",
       "    .dataframe thead th {\n",
       "        text-align: left;\n",
       "    }\n",
       "\n",
       "    .dataframe tbody tr th {\n",
       "        vertical-align: top;\n",
       "    }\n",
       "</style>\n",
       "<table border=\"1\" class=\"dataframe\">\n",
       "  <thead>\n",
       "    <tr style=\"text-align: right;\">\n",
       "      <th></th>\n",
       "      <th>Zipcode</th>\n",
       "      <th>IncomePerCapita</th>\n",
       "      <th>TotalPop</th>\n",
       "      <th>WithCoverage</th>\n",
       "      <th>Public</th>\n",
       "      <th>Private</th>\n",
       "      <th>NoCoverage</th>\n",
       "      <th>Both</th>\n",
       "      <th>Private_Only</th>\n",
       "      <th>Public_Only</th>\n",
       "      <th>No_Insurace</th>\n",
       "    </tr>\n",
       "  </thead>\n",
       "  <tbody>\n",
       "    <tr>\n",
       "      <th>0</th>\n",
       "      <td>10001</td>\n",
       "      <td>77512.0</td>\n",
       "      <td>22767</td>\n",
       "      <td>20809</td>\n",
       "      <td>5800</td>\n",
       "      <td>16795</td>\n",
       "      <td>1958</td>\n",
       "      <td>1786</td>\n",
       "      <td>15009</td>\n",
       "      <td>4014</td>\n",
       "      <td>1958</td>\n",
       "    </tr>\n",
       "    <tr>\n",
       "      <th>1</th>\n",
       "      <td>10002</td>\n",
       "      <td>26905.0</td>\n",
       "      <td>79490</td>\n",
       "      <td>70361</td>\n",
       "      <td>40139</td>\n",
       "      <td>35167</td>\n",
       "      <td>9129</td>\n",
       "      <td>4945</td>\n",
       "      <td>30222</td>\n",
       "      <td>35194</td>\n",
       "      <td>9129</td>\n",
       "    </tr>\n",
       "    <tr>\n",
       "      <th>2</th>\n",
       "      <td>10003</td>\n",
       "      <td>79088.0</td>\n",
       "      <td>56909</td>\n",
       "      <td>53135</td>\n",
       "      <td>8593</td>\n",
       "      <td>48522</td>\n",
       "      <td>3774</td>\n",
       "      <td>3980</td>\n",
       "      <td>44542</td>\n",
       "      <td>4613</td>\n",
       "      <td>3774</td>\n",
       "    </tr>\n",
       "    <tr>\n",
       "      <th>3</th>\n",
       "      <td>10004</td>\n",
       "      <td>98020.0</td>\n",
       "      <td>3024</td>\n",
       "      <td>2780</td>\n",
       "      <td>180</td>\n",
       "      <td>2705</td>\n",
       "      <td>244</td>\n",
       "      <td>105</td>\n",
       "      <td>2600</td>\n",
       "      <td>75</td>\n",
       "      <td>244</td>\n",
       "    </tr>\n",
       "    <tr>\n",
       "      <th>4</th>\n",
       "      <td>10005</td>\n",
       "      <td>99633.0</td>\n",
       "      <td>7566</td>\n",
       "      <td>6996</td>\n",
       "      <td>122</td>\n",
       "      <td>6944</td>\n",
       "      <td>570</td>\n",
       "      <td>70</td>\n",
       "      <td>6874</td>\n",
       "      <td>52</td>\n",
       "      <td>570</td>\n",
       "    </tr>\n",
       "  </tbody>\n",
       "</table>\n",
       "</div>"
      ],
      "text/plain": [
       "   Zipcode  IncomePerCapita  TotalPop  WithCoverage  Public  Private  \\\n",
       "0    10001          77512.0     22767         20809    5800    16795   \n",
       "1    10002          26905.0     79490         70361   40139    35167   \n",
       "2    10003          79088.0     56909         53135    8593    48522   \n",
       "3    10004          98020.0      3024          2780     180     2705   \n",
       "4    10005          99633.0      7566          6996     122     6944   \n",
       "\n",
       "   NoCoverage  Both  Private_Only  Public_Only  No_Insurace  \n",
       "0        1958  1786         15009         4014         1958  \n",
       "1        9129  4945         30222        35194         9129  \n",
       "2        3774  3980         44542         4613         3774  \n",
       "3         244   105          2600           75          244  \n",
       "4         570    70          6874           52          570  "
      ]
     },
     "execution_count": 16,
     "metadata": {},
     "output_type": "execute_result"
    }
   ],
   "source": [
    "data.head()"
   ]
  },
  {
   "cell_type": "markdown",
   "metadata": {},
   "source": [
    "(c) Drop rows with NaN (if any) and convert all population counts into proportions (percentage of total population, with the form 58.3 instead of 0.583)\n"
   ]
  },
  {
   "cell_type": "code",
   "execution_count": 17,
   "metadata": {
    "collapsed": true,
    "scrolled": true
   },
   "outputs": [],
   "source": [
    "data1=(data.iloc[:,3:11])"
   ]
  },
  {
   "cell_type": "code",
   "execution_count": 18,
   "metadata": {
    "scrolled": false
   },
   "outputs": [
    {
     "data": {
      "text/html": [
       "<div>\n",
       "<style>\n",
       "    .dataframe thead tr:only-child th {\n",
       "        text-align: right;\n",
       "    }\n",
       "\n",
       "    .dataframe thead th {\n",
       "        text-align: left;\n",
       "    }\n",
       "\n",
       "    .dataframe tbody tr th {\n",
       "        vertical-align: top;\n",
       "    }\n",
       "</style>\n",
       "<table border=\"1\" class=\"dataframe\">\n",
       "  <thead>\n",
       "    <tr style=\"text-align: right;\">\n",
       "      <th></th>\n",
       "      <th>Zipcode</th>\n",
       "      <th>IncomePerCapita</th>\n",
       "      <th>TotalPop</th>\n",
       "      <th>WithCoverage</th>\n",
       "      <th>Public</th>\n",
       "      <th>Private</th>\n",
       "      <th>NoCoverage</th>\n",
       "      <th>Both</th>\n",
       "      <th>Private_Only</th>\n",
       "      <th>Public_Only</th>\n",
       "      <th>No_Insurace</th>\n",
       "    </tr>\n",
       "  </thead>\n",
       "  <tbody>\n",
       "    <tr>\n",
       "      <th>0</th>\n",
       "      <td>10001</td>\n",
       "      <td>77512.0</td>\n",
       "      <td>22767</td>\n",
       "      <td>20809</td>\n",
       "      <td>5800</td>\n",
       "      <td>16795</td>\n",
       "      <td>1958</td>\n",
       "      <td>1786</td>\n",
       "      <td>15009</td>\n",
       "      <td>4014</td>\n",
       "      <td>1958</td>\n",
       "    </tr>\n",
       "    <tr>\n",
       "      <th>1</th>\n",
       "      <td>10002</td>\n",
       "      <td>26905.0</td>\n",
       "      <td>79490</td>\n",
       "      <td>70361</td>\n",
       "      <td>40139</td>\n",
       "      <td>35167</td>\n",
       "      <td>9129</td>\n",
       "      <td>4945</td>\n",
       "      <td>30222</td>\n",
       "      <td>35194</td>\n",
       "      <td>9129</td>\n",
       "    </tr>\n",
       "    <tr>\n",
       "      <th>2</th>\n",
       "      <td>10003</td>\n",
       "      <td>79088.0</td>\n",
       "      <td>56909</td>\n",
       "      <td>53135</td>\n",
       "      <td>8593</td>\n",
       "      <td>48522</td>\n",
       "      <td>3774</td>\n",
       "      <td>3980</td>\n",
       "      <td>44542</td>\n",
       "      <td>4613</td>\n",
       "      <td>3774</td>\n",
       "    </tr>\n",
       "    <tr>\n",
       "      <th>3</th>\n",
       "      <td>10004</td>\n",
       "      <td>98020.0</td>\n",
       "      <td>3024</td>\n",
       "      <td>2780</td>\n",
       "      <td>180</td>\n",
       "      <td>2705</td>\n",
       "      <td>244</td>\n",
       "      <td>105</td>\n",
       "      <td>2600</td>\n",
       "      <td>75</td>\n",
       "      <td>244</td>\n",
       "    </tr>\n",
       "    <tr>\n",
       "      <th>4</th>\n",
       "      <td>10005</td>\n",
       "      <td>99633.0</td>\n",
       "      <td>7566</td>\n",
       "      <td>6996</td>\n",
       "      <td>122</td>\n",
       "      <td>6944</td>\n",
       "      <td>570</td>\n",
       "      <td>70</td>\n",
       "      <td>6874</td>\n",
       "      <td>52</td>\n",
       "      <td>570</td>\n",
       "    </tr>\n",
       "  </tbody>\n",
       "</table>\n",
       "</div>"
      ],
      "text/plain": [
       "   Zipcode  IncomePerCapita  TotalPop  WithCoverage  Public  Private  \\\n",
       "0    10001          77512.0     22767         20809    5800    16795   \n",
       "1    10002          26905.0     79490         70361   40139    35167   \n",
       "2    10003          79088.0     56909         53135    8593    48522   \n",
       "3    10004          98020.0      3024          2780     180     2705   \n",
       "4    10005          99633.0      7566          6996     122     6944   \n",
       "\n",
       "   NoCoverage  Both  Private_Only  Public_Only  No_Insurace  \n",
       "0        1958  1786         15009         4014         1958  \n",
       "1        9129  4945         30222        35194         9129  \n",
       "2        3774  3980         44542         4613         3774  \n",
       "3         244   105          2600           75          244  \n",
       "4         570    70          6874           52          570  "
      ]
     },
     "execution_count": 18,
     "metadata": {},
     "output_type": "execute_result"
    }
   ],
   "source": [
    "data =pd.concat([data.iloc[:,0:3], data1],axis = 1, join = 'outer')\n",
    "data.head()"
   ]
  },
  {
   "cell_type": "markdown",
   "metadata": {},
   "source": [
    "(d) Regress over these proportions (the ones mentioned in part b, leave out \"No Insurance Coverage\") to predict income -- What interesting results do we have here? Briefly state what you've obtained.\n",
    "    * Total Pop\n",
    "    * Population with Public Insurance coverage ONLY\n",
    "    * Population with Private Insurance coverage ONLY\n",
    "    * Population with Both\n",
    "    \n",
    "    Y  = IncomePerCapita"
   ]
  },
  {
   "cell_type": "code",
   "execution_count": 19,
   "metadata": {},
   "outputs": [
    {
     "name": "stdout",
     "output_type": "stream",
     "text": [
      "R2 = 0.348521\n",
      "Intercept       48818.388834\n",
      "TotalPop           -0.696163\n",
      "Private_Only        1.408045\n",
      "Public_Only        -0.525780\n",
      "Both               -0.208138\n",
      "dtype: float64\n"
     ]
    }
   ],
   "source": [
    "lm1 = smf.ols(formula = 'IncomePerCapita ~ TotalPop + Private_Only  + Public_Only + Both', data = data).fit()\n",
    "print('R2 = %f'%lm1.rsquared)\n",
    "print(lm1.params)"
   ]
  },
  {
   "cell_type": "markdown",
   "metadata": {},
   "source": [
    "#### Extra credit:\n",
    "* (e) Visualize the observed income versus the predicted income, like what we did in the lab session. Does this fitted line look great or not? If you're not sure, check the correlation matrix and make a guess."
   ]
  },
  {
   "cell_type": "code",
   "execution_count": 20,
   "metadata": {},
   "outputs": [
    {
     "data": {
      "text/html": [
       "<table class=\"simpletable\">\n",
       "<caption>OLS Regression Results</caption>\n",
       "<tr>\n",
       "  <th>Dep. Variable:</th>     <td>IncomePerCapita</td> <th>  R-squared:         </th> <td>   0.349</td>\n",
       "</tr>\n",
       "<tr>\n",
       "  <th>Model:</th>                   <td>OLS</td>       <th>  Adj. R-squared:    </th> <td>   0.334</td>\n",
       "</tr>\n",
       "<tr>\n",
       "  <th>Method:</th>             <td>Least Squares</td>  <th>  F-statistic:       </th> <td>   23.54</td>\n",
       "</tr>\n",
       "<tr>\n",
       "  <th>Date:</th>             <td>Tue, 17 Oct 2017</td> <th>  Prob (F-statistic):</th> <td>1.33e-15</td>\n",
       "</tr>\n",
       "<tr>\n",
       "  <th>Time:</th>                 <td>15:04:16</td>     <th>  Log-Likelihood:    </th> <td> -2082.5</td>\n",
       "</tr>\n",
       "<tr>\n",
       "  <th>No. Observations:</th>      <td>   181</td>      <th>  AIC:               </th> <td>   4175.</td>\n",
       "</tr>\n",
       "<tr>\n",
       "  <th>Df Residuals:</th>          <td>   176</td>      <th>  BIC:               </th> <td>   4191.</td>\n",
       "</tr>\n",
       "<tr>\n",
       "  <th>Df Model:</th>              <td>     4</td>      <th>                     </th>     <td> </td>   \n",
       "</tr>\n",
       "<tr>\n",
       "  <th>Covariance Type:</th>      <td>nonrobust</td>    <th>                     </th>     <td> </td>   \n",
       "</tr>\n",
       "</table>\n",
       "<table class=\"simpletable\">\n",
       "<tr>\n",
       "        <td></td>          <th>coef</th>     <th>std err</th>      <th>t</th>      <th>P>|t|</th>  <th>[0.025</th>    <th>0.975]</th>  \n",
       "</tr>\n",
       "<tr>\n",
       "  <th>Intercept</th>    <td> 4.882e+04</td> <td> 3867.417</td> <td>   12.623</td> <td> 0.000</td> <td> 4.12e+04</td> <td> 5.65e+04</td>\n",
       "</tr>\n",
       "<tr>\n",
       "  <th>TotalPop</th>     <td>   -0.6962</td> <td>    0.603</td> <td>   -1.154</td> <td> 0.250</td> <td>   -1.887</td> <td>    0.495</td>\n",
       "</tr>\n",
       "<tr>\n",
       "  <th>Private_Only</th> <td>    1.4080</td> <td>    0.671</td> <td>    2.097</td> <td> 0.037</td> <td>    0.083</td> <td>    2.733</td>\n",
       "</tr>\n",
       "<tr>\n",
       "  <th>Public_Only</th>  <td>   -0.5258</td> <td>    0.839</td> <td>   -0.626</td> <td> 0.532</td> <td>   -2.182</td> <td>    1.131</td>\n",
       "</tr>\n",
       "<tr>\n",
       "  <th>Both</th>         <td>   -0.2081</td> <td>    1.647</td> <td>   -0.126</td> <td> 0.900</td> <td>   -3.458</td> <td>    3.042</td>\n",
       "</tr>\n",
       "</table>\n",
       "<table class=\"simpletable\">\n",
       "<tr>\n",
       "  <th>Omnibus:</th>       <td>77.164</td> <th>  Durbin-Watson:     </th> <td>   0.880</td>\n",
       "</tr>\n",
       "<tr>\n",
       "  <th>Prob(Omnibus):</th> <td> 0.000</td> <th>  Jarque-Bera (JB):  </th> <td> 223.550</td>\n",
       "</tr>\n",
       "<tr>\n",
       "  <th>Skew:</th>          <td> 1.813</td> <th>  Prob(JB):          </th> <td>2.86e-49</td>\n",
       "</tr>\n",
       "<tr>\n",
       "  <th>Kurtosis:</th>      <td> 7.062</td> <th>  Cond. No.          </th> <td>1.31e+05</td>\n",
       "</tr>\n",
       "</table>"
      ],
      "text/plain": [
       "<class 'statsmodels.iolib.summary.Summary'>\n",
       "\"\"\"\n",
       "                            OLS Regression Results                            \n",
       "==============================================================================\n",
       "Dep. Variable:        IncomePerCapita   R-squared:                       0.349\n",
       "Model:                            OLS   Adj. R-squared:                  0.334\n",
       "Method:                 Least Squares   F-statistic:                     23.54\n",
       "Date:                Tue, 17 Oct 2017   Prob (F-statistic):           1.33e-15\n",
       "Time:                        15:04:16   Log-Likelihood:                -2082.5\n",
       "No. Observations:                 181   AIC:                             4175.\n",
       "Df Residuals:                     176   BIC:                             4191.\n",
       "Df Model:                           4                                         \n",
       "Covariance Type:            nonrobust                                         \n",
       "================================================================================\n",
       "                   coef    std err          t      P>|t|      [0.025      0.975]\n",
       "--------------------------------------------------------------------------------\n",
       "Intercept     4.882e+04   3867.417     12.623      0.000    4.12e+04    5.65e+04\n",
       "TotalPop        -0.6962      0.603     -1.154      0.250      -1.887       0.495\n",
       "Private_Only     1.4080      0.671      2.097      0.037       0.083       2.733\n",
       "Public_Only     -0.5258      0.839     -0.626      0.532      -2.182       1.131\n",
       "Both            -0.2081      1.647     -0.126      0.900      -3.458       3.042\n",
       "==============================================================================\n",
       "Omnibus:                       77.164   Durbin-Watson:                   0.880\n",
       "Prob(Omnibus):                  0.000   Jarque-Bera (JB):              223.550\n",
       "Skew:                           1.813   Prob(JB):                     2.86e-49\n",
       "Kurtosis:                       7.062   Cond. No.                     1.31e+05\n",
       "==============================================================================\n",
       "\n",
       "Warnings:\n",
       "[1] Standard Errors assume that the covariance matrix of the errors is correctly specified.\n",
       "[2] The condition number is large, 1.31e+05. This might indicate that there are\n",
       "strong multicollinearity or other numerical problems.\n",
       "\"\"\""
      ]
     },
     "execution_count": 20,
     "metadata": {},
     "output_type": "execute_result"
    }
   ],
   "source": [
    "lm1.summary()"
   ]
  },
  {
   "cell_type": "code",
   "execution_count": 21,
   "metadata": {
    "scrolled": true
   },
   "outputs": [
    {
     "data": {
      "text/html": [
       "<div>\n",
       "<style>\n",
       "    .dataframe thead tr:only-child th {\n",
       "        text-align: right;\n",
       "    }\n",
       "\n",
       "    .dataframe thead th {\n",
       "        text-align: left;\n",
       "    }\n",
       "\n",
       "    .dataframe tbody tr th {\n",
       "        vertical-align: top;\n",
       "    }\n",
       "</style>\n",
       "<table border=\"1\" class=\"dataframe\">\n",
       "  <thead>\n",
       "    <tr style=\"text-align: right;\">\n",
       "      <th></th>\n",
       "      <th>Zipcode</th>\n",
       "      <th>IncomePerCapita</th>\n",
       "      <th>TotalPop</th>\n",
       "      <th>WithCoverage</th>\n",
       "      <th>Public</th>\n",
       "      <th>Private</th>\n",
       "      <th>NoCoverage</th>\n",
       "      <th>Both</th>\n",
       "      <th>Private_Only</th>\n",
       "      <th>Public_Only</th>\n",
       "      <th>No_Insurace</th>\n",
       "    </tr>\n",
       "  </thead>\n",
       "  <tbody>\n",
       "    <tr>\n",
       "      <th>count</th>\n",
       "      <td>206.000000</td>\n",
       "      <td>181.000000</td>\n",
       "      <td>206.000000</td>\n",
       "      <td>206.000000</td>\n",
       "      <td>206.000000</td>\n",
       "      <td>206.000000</td>\n",
       "      <td>206.000000</td>\n",
       "      <td>206.000000</td>\n",
       "      <td>206.000000</td>\n",
       "      <td>206.000000</td>\n",
       "      <td>206.000000</td>\n",
       "    </tr>\n",
       "    <tr>\n",
       "      <th>mean</th>\n",
       "      <td>10749.155340</td>\n",
       "      <td>38940.607735</td>\n",
       "      <td>40538.019417</td>\n",
       "      <td>35084.305825</td>\n",
       "      <td>15956.902913</td>\n",
       "      <td>22274.402913</td>\n",
       "      <td>5453.713592</td>\n",
       "      <td>3147.000000</td>\n",
       "      <td>19127.402913</td>\n",
       "      <td>12809.902913</td>\n",
       "      <td>5453.713592</td>\n",
       "    </tr>\n",
       "    <tr>\n",
       "      <th>std</th>\n",
       "      <td>580.111558</td>\n",
       "      <td>29842.785729</td>\n",
       "      <td>29167.908167</td>\n",
       "      <td>24786.437004</td>\n",
       "      <td>14344.433394</td>\n",
       "      <td>15445.289344</td>\n",
       "      <td>5474.363119</td>\n",
       "      <td>2313.139933</td>\n",
       "      <td>13458.329814</td>\n",
       "      <td>12693.757664</td>\n",
       "      <td>5474.363119</td>\n",
       "    </tr>\n",
       "    <tr>\n",
       "      <th>min</th>\n",
       "      <td>10001.000000</td>\n",
       "      <td>8278.000000</td>\n",
       "      <td>0.000000</td>\n",
       "      <td>0.000000</td>\n",
       "      <td>0.000000</td>\n",
       "      <td>0.000000</td>\n",
       "      <td>0.000000</td>\n",
       "      <td>0.000000</td>\n",
       "      <td>0.000000</td>\n",
       "      <td>0.000000</td>\n",
       "      <td>0.000000</td>\n",
       "    </tr>\n",
       "    <tr>\n",
       "      <th>25%</th>\n",
       "      <td>10156.750000</td>\n",
       "      <td>21905.000000</td>\n",
       "      <td>18145.250000</td>\n",
       "      <td>16092.750000</td>\n",
       "      <td>5607.250000</td>\n",
       "      <td>10950.000000</td>\n",
       "      <td>1485.000000</td>\n",
       "      <td>1449.500000</td>\n",
       "      <td>9022.750000</td>\n",
       "      <td>3177.750000</td>\n",
       "      <td>1485.000000</td>\n",
       "    </tr>\n",
       "    <tr>\n",
       "      <th>50%</th>\n",
       "      <td>10474.500000</td>\n",
       "      <td>27811.000000</td>\n",
       "      <td>38106.500000</td>\n",
       "      <td>31986.000000</td>\n",
       "      <td>11701.000000</td>\n",
       "      <td>21924.500000</td>\n",
       "      <td>3930.000000</td>\n",
       "      <td>2907.500000</td>\n",
       "      <td>18675.500000</td>\n",
       "      <td>8199.000000</td>\n",
       "      <td>3930.000000</td>\n",
       "    </tr>\n",
       "    <tr>\n",
       "      <th>75%</th>\n",
       "      <td>11355.750000</td>\n",
       "      <td>39540.000000</td>\n",
       "      <td>61173.250000</td>\n",
       "      <td>54047.000000</td>\n",
       "      <td>25879.500000</td>\n",
       "      <td>32069.250000</td>\n",
       "      <td>7874.250000</td>\n",
       "      <td>4759.500000</td>\n",
       "      <td>26773.000000</td>\n",
       "      <td>20735.750000</td>\n",
       "      <td>7874.250000</td>\n",
       "    </tr>\n",
       "    <tr>\n",
       "      <th>max</th>\n",
       "      <td>11697.000000</td>\n",
       "      <td>173257.000000</td>\n",
       "      <td>109936.000000</td>\n",
       "      <td>88280.000000</td>\n",
       "      <td>63771.000000</td>\n",
       "      <td>71455.000000</td>\n",
       "      <td>37478.000000</td>\n",
       "      <td>9947.000000</td>\n",
       "      <td>61745.000000</td>\n",
       "      <td>56061.000000</td>\n",
       "      <td>37478.000000</td>\n",
       "    </tr>\n",
       "  </tbody>\n",
       "</table>\n",
       "</div>"
      ],
      "text/plain": [
       "            Zipcode  IncomePerCapita       TotalPop  WithCoverage  \\\n",
       "count    206.000000       181.000000     206.000000    206.000000   \n",
       "mean   10749.155340     38940.607735   40538.019417  35084.305825   \n",
       "std      580.111558     29842.785729   29167.908167  24786.437004   \n",
       "min    10001.000000      8278.000000       0.000000      0.000000   \n",
       "25%    10156.750000     21905.000000   18145.250000  16092.750000   \n",
       "50%    10474.500000     27811.000000   38106.500000  31986.000000   \n",
       "75%    11355.750000     39540.000000   61173.250000  54047.000000   \n",
       "max    11697.000000    173257.000000  109936.000000  88280.000000   \n",
       "\n",
       "             Public       Private    NoCoverage         Both  Private_Only  \\\n",
       "count    206.000000    206.000000    206.000000   206.000000    206.000000   \n",
       "mean   15956.902913  22274.402913   5453.713592  3147.000000  19127.402913   \n",
       "std    14344.433394  15445.289344   5474.363119  2313.139933  13458.329814   \n",
       "min        0.000000      0.000000      0.000000     0.000000      0.000000   \n",
       "25%     5607.250000  10950.000000   1485.000000  1449.500000   9022.750000   \n",
       "50%    11701.000000  21924.500000   3930.000000  2907.500000  18675.500000   \n",
       "75%    25879.500000  32069.250000   7874.250000  4759.500000  26773.000000   \n",
       "max    63771.000000  71455.000000  37478.000000  9947.000000  61745.000000   \n",
       "\n",
       "        Public_Only   No_Insurace  \n",
       "count    206.000000    206.000000  \n",
       "mean   12809.902913   5453.713592  \n",
       "std    12693.757664   5474.363119  \n",
       "min        0.000000      0.000000  \n",
       "25%     3177.750000   1485.000000  \n",
       "50%     8199.000000   3930.000000  \n",
       "75%    20735.750000   7874.250000  \n",
       "max    56061.000000  37478.000000  "
      ]
     },
     "execution_count": 21,
     "metadata": {},
     "output_type": "execute_result"
    }
   ],
   "source": [
    "data.describe()"
   ]
  },
  {
   "cell_type": "code",
   "execution_count": 22,
   "metadata": {
    "scrolled": true
   },
   "outputs": [
    {
     "data": {
      "text/html": [
       "<table class=\"simpletable\">\n",
       "<caption>OLS Regression Results</caption>\n",
       "<tr>\n",
       "  <th>Dep. Variable:</th>     <td>IncomePerCapita</td> <th>  R-squared:         </th> <td>   0.349</td>\n",
       "</tr>\n",
       "<tr>\n",
       "  <th>Model:</th>                   <td>OLS</td>       <th>  Adj. R-squared:    </th> <td>   0.334</td>\n",
       "</tr>\n",
       "<tr>\n",
       "  <th>Method:</th>             <td>Least Squares</td>  <th>  F-statistic:       </th> <td>   23.54</td>\n",
       "</tr>\n",
       "<tr>\n",
       "  <th>Date:</th>             <td>Tue, 17 Oct 2017</td> <th>  Prob (F-statistic):</th> <td>1.33e-15</td>\n",
       "</tr>\n",
       "<tr>\n",
       "  <th>Time:</th>                 <td>15:04:17</td>     <th>  Log-Likelihood:    </th> <td> -2082.5</td>\n",
       "</tr>\n",
       "<tr>\n",
       "  <th>No. Observations:</th>      <td>   181</td>      <th>  AIC:               </th> <td>   4175.</td>\n",
       "</tr>\n",
       "<tr>\n",
       "  <th>Df Residuals:</th>          <td>   176</td>      <th>  BIC:               </th> <td>   4191.</td>\n",
       "</tr>\n",
       "<tr>\n",
       "  <th>Df Model:</th>              <td>     4</td>      <th>                     </th>     <td> </td>   \n",
       "</tr>\n",
       "<tr>\n",
       "  <th>Covariance Type:</th>      <td>nonrobust</td>    <th>                     </th>     <td> </td>   \n",
       "</tr>\n",
       "</table>\n",
       "<table class=\"simpletable\">\n",
       "<tr>\n",
       "        <td></td>          <th>coef</th>     <th>std err</th>      <th>t</th>      <th>P>|t|</th>  <th>[0.025</th>    <th>0.975]</th>  \n",
       "</tr>\n",
       "<tr>\n",
       "  <th>Intercept</th>    <td> 4.882e+04</td> <td> 3867.417</td> <td>   12.623</td> <td> 0.000</td> <td> 4.12e+04</td> <td> 5.65e+04</td>\n",
       "</tr>\n",
       "<tr>\n",
       "  <th>TotalPop</th>     <td>   -0.6962</td> <td>    0.603</td> <td>   -1.154</td> <td> 0.250</td> <td>   -1.887</td> <td>    0.495</td>\n",
       "</tr>\n",
       "<tr>\n",
       "  <th>Private_Only</th> <td>    1.4080</td> <td>    0.671</td> <td>    2.097</td> <td> 0.037</td> <td>    0.083</td> <td>    2.733</td>\n",
       "</tr>\n",
       "<tr>\n",
       "  <th>Public_Only</th>  <td>   -0.5258</td> <td>    0.839</td> <td>   -0.626</td> <td> 0.532</td> <td>   -2.182</td> <td>    1.131</td>\n",
       "</tr>\n",
       "<tr>\n",
       "  <th>Both</th>         <td>   -0.2081</td> <td>    1.647</td> <td>   -0.126</td> <td> 0.900</td> <td>   -3.458</td> <td>    3.042</td>\n",
       "</tr>\n",
       "</table>\n",
       "<table class=\"simpletable\">\n",
       "<tr>\n",
       "  <th>Omnibus:</th>       <td>77.164</td> <th>  Durbin-Watson:     </th> <td>   0.880</td>\n",
       "</tr>\n",
       "<tr>\n",
       "  <th>Prob(Omnibus):</th> <td> 0.000</td> <th>  Jarque-Bera (JB):  </th> <td> 223.550</td>\n",
       "</tr>\n",
       "<tr>\n",
       "  <th>Skew:</th>          <td> 1.813</td> <th>  Prob(JB):          </th> <td>2.86e-49</td>\n",
       "</tr>\n",
       "<tr>\n",
       "  <th>Kurtosis:</th>      <td> 7.062</td> <th>  Cond. No.          </th> <td>1.31e+05</td>\n",
       "</tr>\n",
       "</table>"
      ],
      "text/plain": [
       "<class 'statsmodels.iolib.summary.Summary'>\n",
       "\"\"\"\n",
       "                            OLS Regression Results                            \n",
       "==============================================================================\n",
       "Dep. Variable:        IncomePerCapita   R-squared:                       0.349\n",
       "Model:                            OLS   Adj. R-squared:                  0.334\n",
       "Method:                 Least Squares   F-statistic:                     23.54\n",
       "Date:                Tue, 17 Oct 2017   Prob (F-statistic):           1.33e-15\n",
       "Time:                        15:04:17   Log-Likelihood:                -2082.5\n",
       "No. Observations:                 181   AIC:                             4175.\n",
       "Df Residuals:                     176   BIC:                             4191.\n",
       "Df Model:                           4                                         \n",
       "Covariance Type:            nonrobust                                         \n",
       "================================================================================\n",
       "                   coef    std err          t      P>|t|      [0.025      0.975]\n",
       "--------------------------------------------------------------------------------\n",
       "Intercept     4.882e+04   3867.417     12.623      0.000    4.12e+04    5.65e+04\n",
       "TotalPop        -0.6962      0.603     -1.154      0.250      -1.887       0.495\n",
       "Private_Only     1.4080      0.671      2.097      0.037       0.083       2.733\n",
       "Public_Only     -0.5258      0.839     -0.626      0.532      -2.182       1.131\n",
       "Both            -0.2081      1.647     -0.126      0.900      -3.458       3.042\n",
       "==============================================================================\n",
       "Omnibus:                       77.164   Durbin-Watson:                   0.880\n",
       "Prob(Omnibus):                  0.000   Jarque-Bera (JB):              223.550\n",
       "Skew:                           1.813   Prob(JB):                     2.86e-49\n",
       "Kurtosis:                       7.062   Cond. No.                     1.31e+05\n",
       "==============================================================================\n",
       "\n",
       "Warnings:\n",
       "[1] Standard Errors assume that the covariance matrix of the errors is correctly specified.\n",
       "[2] The condition number is large, 1.31e+05. This might indicate that there are\n",
       "strong multicollinearity or other numerical problems.\n",
       "\"\"\""
      ]
     },
     "execution_count": 22,
     "metadata": {},
     "output_type": "execute_result"
    }
   ],
   "source": [
    "lm1.summary()\n",
    "# lin_model.predict([x.min(), x.max()])"
   ]
  },
  {
   "cell_type": "code",
   "execution_count": 23,
   "metadata": {
    "scrolled": true
   },
   "outputs": [
    {
     "ename": "TypeError",
     "evalue": "scatter() got multiple values for keyword argument 's'",
     "output_type": "error",
     "traceback": [
      "\u001b[0;31m---------------------------------------------------------------------------\u001b[0m",
      "\u001b[0;31mTypeError\u001b[0m                                 Traceback (most recent call last)",
      "\u001b[0;32m<ipython-input-23-8722a730d96b>\u001b[0m in \u001b[0;36m<module>\u001b[0;34m()\u001b[0m\n\u001b[1;32m      2\u001b[0m \u001b[0mfig\u001b[0m \u001b[0;34m=\u001b[0m \u001b[0mplt\u001b[0m\u001b[0;34m.\u001b[0m\u001b[0mfigure\u001b[0m\u001b[0;34m(\u001b[0m\u001b[0mfigsize\u001b[0m \u001b[0;34m=\u001b[0m \u001b[0;34m(\u001b[0m\u001b[0;36m12\u001b[0m\u001b[0;34m,\u001b[0m\u001b[0;36m10\u001b[0m\u001b[0;34m)\u001b[0m\u001b[0;34m)\u001b[0m  \u001b[0;31m# Create a plot with customized figure size (width, height)\u001b[0m\u001b[0;34m\u001b[0m\u001b[0m\n\u001b[1;32m      3\u001b[0m \u001b[0max\u001b[0m \u001b[0;34m=\u001b[0m \u001b[0mfig\u001b[0m\u001b[0;34m.\u001b[0m\u001b[0mgca\u001b[0m\u001b[0;34m(\u001b[0m\u001b[0mprojection\u001b[0m\u001b[0;34m=\u001b[0m\u001b[0;34m'3d'\u001b[0m\u001b[0;34m)\u001b[0m  \u001b[0;31m# Extract the axis for further operations\u001b[0m\u001b[0;34m\u001b[0m\u001b[0m\n\u001b[0;32m----> 4\u001b[0;31m \u001b[0max\u001b[0m\u001b[0;34m.\u001b[0m\u001b[0mscatter\u001b[0m\u001b[0;34m(\u001b[0m\u001b[0mdata\u001b[0m\u001b[0;34m.\u001b[0m\u001b[0mIncomePerCapita\u001b[0m\u001b[0;34m,\u001b[0m \u001b[0mdata\u001b[0m\u001b[0;34m.\u001b[0m\u001b[0mTotalPop\u001b[0m\u001b[0;34m,\u001b[0m \u001b[0mdata\u001b[0m\u001b[0;34m.\u001b[0m\u001b[0mPrivate_Only\u001b[0m\u001b[0;34m,\u001b[0m \u001b[0mdata\u001b[0m\u001b[0;34m.\u001b[0m\u001b[0mPublic_Only\u001b[0m\u001b[0;34m,\u001b[0m \u001b[0mdata\u001b[0m\u001b[0;34m.\u001b[0m\u001b[0mBoth\u001b[0m\u001b[0;34m,\u001b[0m           \u001b[0ms\u001b[0m \u001b[0;34m=\u001b[0m \u001b[0;36m100\u001b[0m\u001b[0;34m,\u001b[0m  \u001b[0mc\u001b[0m \u001b[0;34m=\u001b[0m \u001b[0;34m'r'\u001b[0m\u001b[0;34m)\u001b[0m\u001b[0;34m\u001b[0m\u001b[0m\n\u001b[0m\u001b[1;32m      5\u001b[0m \u001b[0;31m# Scatter plot, \"c\" stands for color, and \"s\" determines the marker size\u001b[0m\u001b[0;34m\u001b[0m\u001b[0;34m\u001b[0m\u001b[0m\n\u001b[1;32m      6\u001b[0m \u001b[0;34m\u001b[0m\u001b[0m\n",
      "\u001b[0;31mTypeError\u001b[0m: scatter() got multiple values for keyword argument 's'"
     ]
    },
    {
     "data": {
      "image/png": "[encoded data removed]",
      "text/plain": [
       "<matplotlib.figure.Figure at 0x7fd67d9ff210>"
      ]
     },
     "metadata": {},
     "output_type": "display_data"
    }
   ],
   "source": [
    "\n",
    "fig = plt.figure(figsize = (12,10))  # Create a plot with customized figure size (width, height)\n",
    "ax = fig.gca(projection='3d')  # Extract the axis for further operations\n",
    "ax.scatter(data.IncomePerCapita, data.TotalPop, data.Private_Only, data.Public_Only, data.Both,\\\n",
    "           s = 100,  c = 'r')\n",
    "# Scatter plot, \"c\" stands for color, and \"s\" determines the marker size\n",
    "\n",
    "# Generate coordinates for hyperplane\n",
    "radius = 5\n",
    "TotalPop, Private_Only, Public_Only, Both = np.meshgrid(range(-radius,radius), range(-radius,radius))\n",
    "fit_y = lm1.params[0] + lm1.params[1] * TotalPop + lm1.params[2] * Private_Only\\\n",
    "+ lm1.params[3] * Public_Only + lm1.params[4] * Both \n",
    "\n",
    "#alpha (between 0 and 1) controls the transparency with 0 being totally transparent\n",
    "ax.plot_surface(TotalPop, Private_Only, Public_Only, Both, fit_y, color='c', alpha = 0.4)\n",
    "# Set labels and fontsize\n",
    "ax.set_xlabel('$x_1$', fontsize = 20)\n",
    "ax.set_ylabel('$x_2$', fontsize = 20)\n",
    "ax.set_zlabel('$y$', fontsize = 20)\n",
    "\n",
    "ax.view_init(azim = 60)   # Controls the viewing angle"
   ]
  },
  {
   "cell_type": "markdown",
   "metadata": {},
   "source": [
    "## EX 3, Polynomial fit (40+30pt -- 4+5+3$\\times$4+5+3$\\times$3+5+30)\n",
    "\n",
    "### Try to fit y with a polynomial $$\\hat y(x,w) = \\sum\\limits_{i=1}^M w_i\\cdot x^i$$ with the given dataset 'H33.csv'\n",
    "\n",
    "### Tasks:\n",
    "* (a) Draw the scatter plot of x and y, guess what polynomial could be the best choice. (The name \"x1\" denotes $x^1$.)\n",
    "* (b) Create new columns in data frame to contain the information of $x^2, x^3, x^4$\n",
    "* (c) Try to fit y with polynomial of x with order 1, 2, 3, 4, respectively\n",
    "    * For each model, store your fitted parameters as well as your $R^2$\n",
    "* (d) Report the $R^2$, plot it and observe how it changes\n",
    "* (e) Create a figure with four (4) subfigures, one for each polynomial degree M = 1, 2, 3, 4. In each subfigure:\n",
    "    * (e.1) Draw the original scatter plot of x1 and y\n",
    "    * (e.2) Plot the curve of true function $f(x) = 9x^2 - x + 1$\n",
    "    * (e.3) Plot your fitted curve of degree M, observe how our model fits the data as M increases\n",
    "* (f) Based on the plot, which model(s) fits the true curve best? Then provide the best coefficients $\\hat w$\n",
    "### Extra credit\n",
    "* (g) In each subfigure:\n",
    "    * (g.1) Pick an x value (at your discretion) $x_0$, then locate the y value both on your fitted curve and on our function curve ($f(x_0)$)\n",
    "    * (g.2) Mark these two points with a small diamond, then draw a dashed line connecting them, showing \"prediction error\"\n",
    "    * (g.3) Repeat g.1 and g.2 up to ten times (i.e. select up to ten random different future points and predict their values, compare your prediction with the true value), then:\n",
    "        * Compute the average sum of squares of errors $E = \\frac{\\sum_i^n (y_i - f(x_i))^2}{n}$ ($x_i$ denotes your future points), mention it in your subfigure's title (**Be sure to use the SAME future points for ALL 4 models when you calculate prediction error**)\n",
    "        * Which model has the smallest average error $E$? Does this fitted polynomial coincides with the M you picked in part f?"
   ]
  },
  {
   "cell_type": "markdown",
   "metadata": {},
   "source": [
    "(a) Draw the scatter plot of x and y, guess what polynomial could be the best choice. (The name \"x1\" denotes $x^1$.)"
   ]
  },
  {
   "cell_type": "code",
   "execution_count": 50,
   "metadata": {},
   "outputs": [
    {
     "data": {
      "text/html": [
       "<div>\n",
       "<style>\n",
       "    .dataframe thead tr:only-child th {\n",
       "        text-align: right;\n",
       "    }\n",
       "\n",
       "    .dataframe thead th {\n",
       "        text-align: left;\n",
       "    }\n",
       "\n",
       "    .dataframe tbody tr th {\n",
       "        vertical-align: top;\n",
       "    }\n",
       "</style>\n",
       "<table border=\"1\" class=\"dataframe\">\n",
       "  <thead>\n",
       "    <tr style=\"text-align: right;\">\n",
       "      <th></th>\n",
       "      <th>y</th>\n",
       "      <th>x1</th>\n",
       "    </tr>\n",
       "  </thead>\n",
       "  <tbody>\n",
       "    <tr>\n",
       "      <th>0</th>\n",
       "      <td>2.613388</td>\n",
       "      <td>-0.50</td>\n",
       "    </tr>\n",
       "    <tr>\n",
       "      <th>1</th>\n",
       "      <td>2.170351</td>\n",
       "      <td>-0.32</td>\n",
       "    </tr>\n",
       "    <tr>\n",
       "      <th>2</th>\n",
       "      <td>0.049546</td>\n",
       "      <td>-0.14</td>\n",
       "    </tr>\n",
       "    <tr>\n",
       "      <th>3</th>\n",
       "      <td>1.158258</td>\n",
       "      <td>0.04</td>\n",
       "    </tr>\n",
       "    <tr>\n",
       "      <th>4</th>\n",
       "      <td>1.397567</td>\n",
       "      <td>0.22</td>\n",
       "    </tr>\n",
       "  </tbody>\n",
       "</table>\n",
       "</div>"
      ],
      "text/plain": [
       "          y    x1\n",
       "0  2.613388 -0.50\n",
       "1  2.170351 -0.32\n",
       "2  0.049546 -0.14\n",
       "3  1.158258  0.04\n",
       "4  1.397567  0.22"
      ]
     },
     "execution_count": 50,
     "metadata": {},
     "output_type": "execute_result"
    }
   ],
   "source": [
    "H33 = pd.read_csv('data/H33.csv')\n",
    "H33.head()"
   ]
  },
  {
   "cell_type": "code",
   "execution_count": 51,
   "metadata": {},
   "outputs": [
    {
     "data": {
      "text/plain": [
       "[<matplotlib.lines.Line2D at 0x7fd67d589b50>]"
      ]
     },
     "execution_count": 51,
     "metadata": {},
     "output_type": "execute_result"
    },
    {
     "data": {
      "image/png": "[encoded data removed]",
      "text/plain": [
       "<matplotlib.figure.Figure at 0x7fd67d213710>"
      ]
     },
     "metadata": {},
     "output_type": "display_data"
    }
   ],
   "source": [
    "plot(H33.x1, H33.y, 'x')"
   ]
  },
  {
   "cell_type": "code",
   "execution_count": 52,
   "metadata": {},
   "outputs": [
    {
     "ename": "SyntaxError",
     "evalue": "invalid syntax (<ipython-input-52-442ea7c514dd>, line 1)",
     "output_type": "error",
     "traceback": [
      "\u001b[0;36m  File \u001b[0;32m\"<ipython-input-52-442ea7c514dd>\"\u001b[0;36m, line \u001b[0;32m1\u001b[0m\n\u001b[0;31m    H33['y2'] =\u001b[0m\n\u001b[0m                ^\u001b[0m\n\u001b[0;31mSyntaxError\u001b[0m\u001b[0;31m:\u001b[0m invalid syntax\n"
     ]
    }
   ],
   "source": [
    "H33['y2'] = "
   ]
  },
  {
   "cell_type": "code",
   "execution_count": 62,
   "metadata": {},
   "outputs": [
    {
     "data": {
      "image/png": "[encoded data removed]",
      "text/plain": [
       "<matplotlib.figure.Figure at 0x7fd67d138210>"
      ]
     },
     "metadata": {},
     "output_type": "display_data"
    }
   ],
   "source": [
    "\n",
    "# calculate polynomial\n",
    "z = np.polyfit(H33.x1, H33.y, 2)\n",
    "f = np.poly1d(z)\n",
    "\n",
    "# calculate new x's and y's\n",
    "x_new = np.linspace(x[-1], x[1], 50)\n",
    "y_new = f(x_new)\n",
    "\n",
    "plt.plot(x,y,'o', x_new, y_new)\n",
    "plt.xlim([x[0]-1, x[-1] + 1 ])\n",
    "plt.show()"
   ]
  },
  {
   "cell_type": "code",
   "execution_count": 63,
   "metadata": {
    "collapsed": true
   },
   "outputs": [],
   "source": [
    "p = np.poly1d(z)"
   ]
  },
  {
   "cell_type": "code",
   "execution_count": 64,
   "metadata": {},
   "outputs": [
    {
     "data": {
      "text/plain": [
       "poly1d([ 7.4592179 , -0.1128695 ,  0.79787069])"
      ]
     },
     "execution_count": 64,
     "metadata": {},
     "output_type": "execute_result"
    }
   ],
   "source": [
    "p"
   ]
  },
  {
   "cell_type": "code",
   "execution_count": 65,
   "metadata": {},
   "outputs": [
    {
     "ename": "SyntaxError",
     "evalue": "invalid syntax (<ipython-input-65-2fc8b80d0494>, line 1)",
     "output_type": "error",
     "traceback": [
      "\u001b[0;36m  File \u001b[0;32m\"<ipython-input-65-2fc8b80d0494>\"\u001b[0;36m, line \u001b[0;32m1\u001b[0m\n\u001b[0;31m    plot(, p)\u001b[0m\n\u001b[0m         ^\u001b[0m\n\u001b[0;31mSyntaxError\u001b[0m\u001b[0;31m:\u001b[0m invalid syntax\n"
     ]
    }
   ],
   "source": [
    "plot(, p)"
   ]
  },
  {
   "cell_type": "code",
   "execution_count": null,
   "metadata": {},
   "outputs": [],
   "source": []
  },
  {
   "cell_type": "code",
   "execution_count": 56,
   "metadata": {},
   "outputs": [
    {
     "data": {
      "text/plain": [
       "-0.5"
      ]
     },
     "execution_count": 56,
     "metadata": {},
     "output_type": "execute_result"
    }
   ],
   "source": [
    " H33.x1[0]"
   ]
  },
  {
   "cell_type": "code",
   "execution_count": 57,
   "metadata": {
    "scrolled": true
   },
   "outputs": [
    {
     "data": {
      "text/plain": [
       "0.40000000000000002"
      ]
     },
     "execution_count": 57,
     "metadata": {},
     "output_type": "execute_result"
    }
   ],
   "source": [
    "H33.x1[5]"
   ]
  },
  {
   "cell_type": "code",
   "execution_count": null,
   "metadata": {
    "collapsed": true
   },
   "outputs": [],
   "source": []
  }
 ],
 "metadata": {
  "kernelspec": {
   "display_name": "Python 2",
   "language": "python",
   "name": "python2"
  },
  "language_info": {
   "codemirror_mode": {
    "name": "ipython",
    "version": 2
   },
   "file_extension": ".py",
   "mimetype": "text/x-python",
   "name": "python",
   "nbconvert_exporter": "python",
   "pygments_lexer": "ipython2",
   "version": "2.7.12"
  }
 },
 "nbformat": 4,
 "nbformat_minor": 1
}
