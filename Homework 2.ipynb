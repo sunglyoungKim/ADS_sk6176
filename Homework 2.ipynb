{
 "cells": [
  {
   "cell_type": "markdown",
   "metadata": {},
   "source": [
    "# Homework 02 --- Session 3, Multilinear regression"
   ]
  },
  {
   "cell_type": "markdown",
   "metadata": {
    "collapsed": true
   },
   "source": [
    "## EX 1 Artificial data (25pt -- 5+5+5+10)\n",
    "### Dataset 'H31.csv'\n",
    "### Tasks:\n",
    "Consider a multivariate regression of the output variable $y$ over the 3 regressors $x_1$, $x_2$, $x_3$ as follows.\n",
    "* (a) Which one of the regressors serves as dummy variable corresponding to an intercept term?\n",
    "    * Ignore the first column since it's just a duplicate index (You can avoid it by running **ex1 = pd.read_csv('H31.csv', index_col=0)** )\n",
    "* (b) Calculate the coefficients $\\hat w$ manually or with python *numpy* module by using matrix computation.\n",
    "* (c) Verify your answer by implementing the OLS regression function with python *statsmodels* module.\n",
    "* (d) Visualize the data points and your fitted model in a 3D plot, like we did in the lab session."
   ]
  },
  {
   "cell_type": "code",
   "execution_count": 1,
   "metadata": {},
   "outputs": [
    {
     "name": "stdout",
     "output_type": "stream",
     "text": [
      "Populating the interactive namespace from numpy and matplotlib\n"
     ]
    }
   ],
   "source": [
    "import numpy as np   # basic numeric module in python, for array and matrix computation\n",
    "import pandas as pd  # advanced numeric module, excels in data frame analysis\n",
    "import matplotlib.pyplot as plt  # for data visualization\n",
    "%pylab inline\n",
    "# so the plots are embedded in notebook rather than a stand alone window\n",
    "\n",
    "from mpl_toolkits.mplot3d import Axes3D  # for 3D plot\n",
    "import statsmodels.formula.api as smf    # for OLS regression\n"
   ]
  },
  {
   "cell_type": "code",
   "execution_count": 2,
   "metadata": {},
   "outputs": [
    {
     "data": {
      "text/html": [
       "<div>\n",
       "<style>\n",
       "    .dataframe thead tr:only-child th {\n",
       "        text-align: right;\n",
       "    }\n",
       "\n",
       "    .dataframe thead th {\n",
       "        text-align: left;\n",
       "    }\n",
       "\n",
       "    .dataframe tbody tr th {\n",
       "        vertical-align: top;\n",
       "    }\n",
       "</style>\n",
       "<table border=\"1\" class=\"dataframe\">\n",
       "  <thead>\n",
       "    <tr style=\"text-align: right;\">\n",
       "      <th></th>\n",
       "      <th>y</th>\n",
       "      <th>x1</th>\n",
       "      <th>x2</th>\n",
       "      <th>x3</th>\n",
       "    </tr>\n",
       "  </thead>\n",
       "  <tbody>\n",
       "    <tr>\n",
       "      <th>1</th>\n",
       "      <td>0</td>\n",
       "      <td>1</td>\n",
       "      <td>-2</td>\n",
       "      <td>1</td>\n",
       "    </tr>\n",
       "    <tr>\n",
       "      <th>2</th>\n",
       "      <td>2</td>\n",
       "      <td>-1</td>\n",
       "      <td>-1</td>\n",
       "      <td>1</td>\n",
       "    </tr>\n",
       "    <tr>\n",
       "      <th>3</th>\n",
       "      <td>2</td>\n",
       "      <td>0</td>\n",
       "      <td>0</td>\n",
       "      <td>1</td>\n",
       "    </tr>\n",
       "    <tr>\n",
       "      <th>4</th>\n",
       "      <td>3</td>\n",
       "      <td>-1</td>\n",
       "      <td>1</td>\n",
       "      <td>1</td>\n",
       "    </tr>\n",
       "    <tr>\n",
       "      <th>5</th>\n",
       "      <td>3</td>\n",
       "      <td>1</td>\n",
       "      <td>2</td>\n",
       "      <td>1</td>\n",
       "    </tr>\n",
       "  </tbody>\n",
       "</table>\n",
       "</div>"
      ],
      "text/plain": [
       "   y  x1  x2  x3\n",
       "1  0   1  -2   1\n",
       "2  2  -1  -1   1\n",
       "3  2   0   0   1\n",
       "4  3  -1   1   1\n",
       "5  3   1   2   1"
      ]
     },
     "execution_count": 2,
     "metadata": {},
     "output_type": "execute_result"
    }
   ],
   "source": [
    "H31 = pd.read_csv('data/H31.csv', index_col=0)\n",
    "H31.head()"
   ]
  },
  {
   "cell_type": "markdown",
   "metadata": {},
   "source": [
    "(a) Which one of the regressors serves as dummy variable corresponding to an intercept term?\n",
    "    * Ignore the first column since it's just a duplicate index (You can avoid it by running **ex1 = pd.read_csv('H31.csv', index_col=0)** )"
   ]
  },
  {
   "cell_type": "markdown",
   "metadata": {},
   "source": [
    "x3"
   ]
  },
  {
   "cell_type": "markdown",
   "metadata": {},
   "source": [
    "(b) Calculate the coefficients $\\hat w$ manually or with python *numpy* module by using matrix computation.\n"
   ]
  },
  {
   "cell_type": "code",
   "execution_count": 3,
   "metadata": {},
   "outputs": [
    {
     "name": "stdout",
     "output_type": "stream",
     "text": [
      "[[-0.5]\n",
      " [ 0.7]\n",
      " [ 2. ]]\n"
     ]
    }
   ],
   "source": [
    "#Q2. Create X and Y in matrix form then use matrix computation formula to calculate the coefficients\n",
    "X = np.matrix(H31.loc[:,['x1','x2','x3']])\n",
    "Y = np.matrix(H31.loc[:,['y']])\n",
    "w = (X.T * X).I * X.T * Y\n",
    "print(w)"
   ]
  },
  {
   "cell_type": "code",
   "execution_count": 4,
   "metadata": {
    "scrolled": true
   },
   "outputs": [
    {
     "data": {
      "text/plain": [
       "matrix([[-0.5],\n",
       "        [ 0.7],\n",
       "        [ 2. ]])"
      ]
     },
     "execution_count": 4,
     "metadata": {},
     "output_type": "execute_result"
    }
   ],
   "source": [
    "(X.T*X).I*X.T*Y"
   ]
  },
  {
   "cell_type": "code",
   "execution_count": 5,
   "metadata": {},
   "outputs": [
    {
     "data": {
      "text/plain": [
       "matrix([[0],\n",
       "        [2],\n",
       "        [2],\n",
       "        [3],\n",
       "        [3]])"
      ]
     },
     "execution_count": 5,
     "metadata": {},
     "output_type": "execute_result"
    }
   ],
   "source": [
    "Y"
   ]
  },
  {
   "cell_type": "markdown",
   "metadata": {},
   "source": [
    "(c) Verify your answer by implementing the OLS regression function with python *statsmodels* module."
   ]
  },
  {
   "cell_type": "code",
   "execution_count": 6,
   "metadata": {
    "scrolled": true
   },
   "outputs": [
    {
     "name": "stdout",
     "output_type": "stream",
     "text": [
      "R2 = 0.983333\n",
      "Intercept    1.0\n",
      "x1          -0.5\n",
      "x2           0.7\n",
      "x3           1.0\n",
      "dtype: float64\n"
     ]
    }
   ],
   "source": [
    "lm1 = smf.ols(formula = 'y ~ x1 + x2 + x3', data = H31).fit()\n",
    "print('R2 = %f'%lm1.rsquared)\n",
    "print(lm1.params)"
   ]
  },
  {
   "cell_type": "markdown",
   "metadata": {},
   "source": [
    "(d) Visualize the data points and your fitted model in a 3D plot, like we did in the lab session."
   ]
  },
  {
   "cell_type": "code",
   "execution_count": 7,
   "metadata": {},
   "outputs": [
    {
     "data": {
      "text/html": [
       "<div>\n",
       "<style>\n",
       "    .dataframe thead tr:only-child th {\n",
       "        text-align: right;\n",
       "    }\n",
       "\n",
       "    .dataframe thead th {\n",
       "        text-align: left;\n",
       "    }\n",
       "\n",
       "    .dataframe tbody tr th {\n",
       "        vertical-align: top;\n",
       "    }\n",
       "</style>\n",
       "<table border=\"1\" class=\"dataframe\">\n",
       "  <thead>\n",
       "    <tr style=\"text-align: right;\">\n",
       "      <th></th>\n",
       "      <th>y</th>\n",
       "      <th>x1</th>\n",
       "      <th>x2</th>\n",
       "      <th>x3</th>\n",
       "    </tr>\n",
       "  </thead>\n",
       "  <tbody>\n",
       "    <tr>\n",
       "      <th>count</th>\n",
       "      <td>5.000000</td>\n",
       "      <td>5.0</td>\n",
       "      <td>5.000000</td>\n",
       "      <td>5.0</td>\n",
       "    </tr>\n",
       "    <tr>\n",
       "      <th>mean</th>\n",
       "      <td>2.000000</td>\n",
       "      <td>0.0</td>\n",
       "      <td>0.000000</td>\n",
       "      <td>1.0</td>\n",
       "    </tr>\n",
       "    <tr>\n",
       "      <th>std</th>\n",
       "      <td>1.224745</td>\n",
       "      <td>1.0</td>\n",
       "      <td>1.581139</td>\n",
       "      <td>0.0</td>\n",
       "    </tr>\n",
       "    <tr>\n",
       "      <th>min</th>\n",
       "      <td>0.000000</td>\n",
       "      <td>-1.0</td>\n",
       "      <td>-2.000000</td>\n",
       "      <td>1.0</td>\n",
       "    </tr>\n",
       "    <tr>\n",
       "      <th>25%</th>\n",
       "      <td>2.000000</td>\n",
       "      <td>-1.0</td>\n",
       "      <td>-1.000000</td>\n",
       "      <td>1.0</td>\n",
       "    </tr>\n",
       "    <tr>\n",
       "      <th>50%</th>\n",
       "      <td>2.000000</td>\n",
       "      <td>0.0</td>\n",
       "      <td>0.000000</td>\n",
       "      <td>1.0</td>\n",
       "    </tr>\n",
       "    <tr>\n",
       "      <th>75%</th>\n",
       "      <td>3.000000</td>\n",
       "      <td>1.0</td>\n",
       "      <td>1.000000</td>\n",
       "      <td>1.0</td>\n",
       "    </tr>\n",
       "    <tr>\n",
       "      <th>max</th>\n",
       "      <td>3.000000</td>\n",
       "      <td>1.0</td>\n",
       "      <td>2.000000</td>\n",
       "      <td>1.0</td>\n",
       "    </tr>\n",
       "  </tbody>\n",
       "</table>\n",
       "</div>"
      ],
      "text/plain": [
       "              y   x1        x2   x3\n",
       "count  5.000000  5.0  5.000000  5.0\n",
       "mean   2.000000  0.0  0.000000  1.0\n",
       "std    1.224745  1.0  1.581139  0.0\n",
       "min    0.000000 -1.0 -2.000000  1.0\n",
       "25%    2.000000 -1.0 -1.000000  1.0\n",
       "50%    2.000000  0.0  0.000000  1.0\n",
       "75%    3.000000  1.0  1.000000  1.0\n",
       "max    3.000000  1.0  2.000000  1.0"
      ]
     },
     "execution_count": 7,
     "metadata": {},
     "output_type": "execute_result"
    }
   ],
   "source": [
    "H31.describe()"
   ]
  },
  {
   "cell_type": "code",
   "execution_count": 8,
   "metadata": {},
   "outputs": [
    {
     "data": {
      "image/png": "[encoded data removed]",
      "text/plain": [
       "<matplotlib.figure.Figure at 0x7fb0b6fd6210>"
      ]
     },
     "metadata": {},
     "output_type": "display_data"
    }
   ],
   "source": [
    "fig = plt.figure(figsize = (12,10))  # Create a plot with customized figure size (width, height)\n",
    "ax = fig.gca(projection='3d')  # Extract the axis for further operations\n",
    "ax.scatter(H31.x1, H31.x2, H31.y, s = 100,  c = 'r')\n",
    "# Scatter plot, \"c\" stands for color, and \"s\" determines the marker size\n",
    "\n",
    "# Generate coordinates for hyperplane\n",
    "radius = 5\n",
    "x1, x2, = np.meshgrid(range(-radius,radius), range(-radius,radius))\n",
    "fit_y = lm1.params[0] + lm1.params[1] * x1 + lm1.params[2] * x2 \n",
    "\n",
    "#alpha (between 0 and 1) controls the transparency with 0 being totally transparent\n",
    "ax.plot_surface(x1, x2, fit_y, color='c', alpha = 0.4)\n",
    "# Set labels and fontsize\n",
    "ax.set_xlabel('$x_1$', fontsize = 20)\n",
    "ax.set_ylabel('$x_2$', fontsize = 20)\n",
    "ax.set_zlabel('$y$', fontsize = 20)\n",
    "\n",
    "ax.view_init(azim = 60)   # Controls the viewing angle"
   ]
  },
  {
   "cell_type": "markdown",
   "metadata": {},
   "source": [
    "## EX 2, Income vs Insurance coverage (35+10pt -- 10+10+5+10+10)\n",
    "### Dataset 'IncomeInsReg.csv'\n",
    "You are given the demographic data of insurance coverage in NYC, with the details:\n",
    "* Zip code\n",
    "* Per capita income\n",
    "* Total population (for each zip code)\n",
    "* Population with Insurance coverage\n",
    "    * Population with Public Insurance coverage\n",
    "    * Population with Private Insurance coverage\n",
    "* Population with No Insurance coverage\n",
    "\n",
    "### Tasks:\n",
    "* (a) Verify that there are some people with BOTH public insurance and private insurance according to this data set, then create a new column containing such information\n",
    "* (b) Modify the old data frame, or simply create a new one, such that this data frame contains (including but not limited to) the following information in each zipcode area:\n",
    "    * IncomePerCapita\n",
    "    * Total Population\n",
    "    * Population with Public Insurance coverage ONLY\n",
    "    * Population with Private Insurance coverage ONLY\n",
    "    * Population with NO Insurance coverage\n",
    "    * Population with BOTH types of Insurance coverage\n",
    "* (c) Drop rows with NaN (if any) and convert all population counts into proportions (percentage of total population, with the form 58.3 instead of 0.583)\n",
    "* (d) Regress over these proportions (the ones mentioned in part b, leave out \"No Insurance Coverage\") to predict income -- What interesting results do we have here? Briefly state what you've obtained.\n",
    "#### Extra credit:\n",
    "* (e) Visualize the observed income versus the predicted income, like what we did in the lab session. Does this fitted line look great or not? If you're not sure, check the correlation matrix and make a guess."
   ]
  },
  {
   "cell_type": "markdown",
   "metadata": {},
   "source": [
    "(a) Verify that there are some people with BOTH public insurance and private insurance according to this data set, then create a new column containing such information"
   ]
  },
  {
   "cell_type": "code",
   "execution_count": 9,
   "metadata": {
    "scrolled": true
   },
   "outputs": [
    {
     "data": {
      "text/html": [
       "<div>\n",
       "<style>\n",
       "    .dataframe thead tr:only-child th {\n",
       "        text-align: right;\n",
       "    }\n",
       "\n",
       "    .dataframe thead th {\n",
       "        text-align: left;\n",
       "    }\n",
       "\n",
       "    .dataframe tbody tr th {\n",
       "        vertical-align: top;\n",
       "    }\n",
       "</style>\n",
       "<table border=\"1\" class=\"dataframe\">\n",
       "  <thead>\n",
       "    <tr style=\"text-align: right;\">\n",
       "      <th></th>\n",
       "      <th>Zipcode</th>\n",
       "      <th>IncomePerCapita</th>\n",
       "      <th>TotalPop</th>\n",
       "      <th>WithCoverage</th>\n",
       "      <th>Public</th>\n",
       "      <th>Private</th>\n",
       "      <th>NoCoverage</th>\n",
       "    </tr>\n",
       "  </thead>\n",
       "  <tbody>\n",
       "    <tr>\n",
       "      <th>0</th>\n",
       "      <td>10001</td>\n",
       "      <td>77512.0</td>\n",
       "      <td>22767</td>\n",
       "      <td>20809</td>\n",
       "      <td>5800</td>\n",
       "      <td>16795</td>\n",
       "      <td>1958</td>\n",
       "    </tr>\n",
       "    <tr>\n",
       "      <th>1</th>\n",
       "      <td>10002</td>\n",
       "      <td>26905.0</td>\n",
       "      <td>79490</td>\n",
       "      <td>70361</td>\n",
       "      <td>40139</td>\n",
       "      <td>35167</td>\n",
       "      <td>9129</td>\n",
       "    </tr>\n",
       "    <tr>\n",
       "      <th>2</th>\n",
       "      <td>10003</td>\n",
       "      <td>79088.0</td>\n",
       "      <td>56909</td>\n",
       "      <td>53135</td>\n",
       "      <td>8593</td>\n",
       "      <td>48522</td>\n",
       "      <td>3774</td>\n",
       "    </tr>\n",
       "    <tr>\n",
       "      <th>3</th>\n",
       "      <td>10004</td>\n",
       "      <td>98020.0</td>\n",
       "      <td>3024</td>\n",
       "      <td>2780</td>\n",
       "      <td>180</td>\n",
       "      <td>2705</td>\n",
       "      <td>244</td>\n",
       "    </tr>\n",
       "    <tr>\n",
       "      <th>4</th>\n",
       "      <td>10005</td>\n",
       "      <td>99633.0</td>\n",
       "      <td>7566</td>\n",
       "      <td>6996</td>\n",
       "      <td>122</td>\n",
       "      <td>6944</td>\n",
       "      <td>570</td>\n",
       "    </tr>\n",
       "  </tbody>\n",
       "</table>\n",
       "</div>"
      ],
      "text/plain": [
       "   Zipcode  IncomePerCapita  TotalPop  WithCoverage  Public  Private  \\\n",
       "0    10001          77512.0     22767         20809    5800    16795   \n",
       "1    10002          26905.0     79490         70361   40139    35167   \n",
       "2    10003          79088.0     56909         53135    8593    48522   \n",
       "3    10004          98020.0      3024          2780     180     2705   \n",
       "4    10005          99633.0      7566          6996     122     6944   \n",
       "\n",
       "   NoCoverage  \n",
       "0        1958  \n",
       "1        9129  \n",
       "2        3774  \n",
       "3         244  \n",
       "4         570  "
      ]
     },
     "execution_count": 9,
     "metadata": {},
     "output_type": "execute_result"
    }
   ],
   "source": [
    "data = pd.read_csv('data/IncomeInsReg.csv')\n",
    "data.head()"
   ]
  },
  {
   "cell_type": "code",
   "execution_count": 10,
   "metadata": {},
   "outputs": [
    {
     "data": {
      "text/plain": [
       "(206, 7)"
      ]
     },
     "execution_count": 10,
     "metadata": {},
     "output_type": "execute_result"
    }
   ],
   "source": [
    "data.shape"
   ]
  },
  {
   "cell_type": "code",
   "execution_count": 11,
   "metadata": {
    "collapsed": true
   },
   "outputs": [],
   "source": [
    "data['Both'] = (data['Public'] + data['Private'])-data['WithCoverage']"
   ]
  },
  {
   "cell_type": "code",
   "execution_count": 12,
   "metadata": {},
   "outputs": [
    {
     "data": {
      "text/html": [
       "<div>\n",
       "<style>\n",
       "    .dataframe thead tr:only-child th {\n",
       "        text-align: right;\n",
       "    }\n",
       "\n",
       "    .dataframe thead th {\n",
       "        text-align: left;\n",
       "    }\n",
       "\n",
       "    .dataframe tbody tr th {\n",
       "        vertical-align: top;\n",
       "    }\n",
       "</style>\n",
       "<table border=\"1\" class=\"dataframe\">\n",
       "  <thead>\n",
       "    <tr style=\"text-align: right;\">\n",
       "      <th></th>\n",
       "      <th>Zipcode</th>\n",
       "      <th>IncomePerCapita</th>\n",
       "      <th>TotalPop</th>\n",
       "      <th>WithCoverage</th>\n",
       "      <th>Public</th>\n",
       "      <th>Private</th>\n",
       "      <th>NoCoverage</th>\n",
       "      <th>Both</th>\n",
       "    </tr>\n",
       "  </thead>\n",
       "  <tbody>\n",
       "    <tr>\n",
       "      <th>0</th>\n",
       "      <td>10001</td>\n",
       "      <td>77512.0</td>\n",
       "      <td>22767</td>\n",
       "      <td>20809</td>\n",
       "      <td>5800</td>\n",
       "      <td>16795</td>\n",
       "      <td>1958</td>\n",
       "      <td>1786</td>\n",
       "    </tr>\n",
       "    <tr>\n",
       "      <th>1</th>\n",
       "      <td>10002</td>\n",
       "      <td>26905.0</td>\n",
       "      <td>79490</td>\n",
       "      <td>70361</td>\n",
       "      <td>40139</td>\n",
       "      <td>35167</td>\n",
       "      <td>9129</td>\n",
       "      <td>4945</td>\n",
       "    </tr>\n",
       "    <tr>\n",
       "      <th>2</th>\n",
       "      <td>10003</td>\n",
       "      <td>79088.0</td>\n",
       "      <td>56909</td>\n",
       "      <td>53135</td>\n",
       "      <td>8593</td>\n",
       "      <td>48522</td>\n",
       "      <td>3774</td>\n",
       "      <td>3980</td>\n",
       "    </tr>\n",
       "    <tr>\n",
       "      <th>3</th>\n",
       "      <td>10004</td>\n",
       "      <td>98020.0</td>\n",
       "      <td>3024</td>\n",
       "      <td>2780</td>\n",
       "      <td>180</td>\n",
       "      <td>2705</td>\n",
       "      <td>244</td>\n",
       "      <td>105</td>\n",
       "    </tr>\n",
       "    <tr>\n",
       "      <th>4</th>\n",
       "      <td>10005</td>\n",
       "      <td>99633.0</td>\n",
       "      <td>7566</td>\n",
       "      <td>6996</td>\n",
       "      <td>122</td>\n",
       "      <td>6944</td>\n",
       "      <td>570</td>\n",
       "      <td>70</td>\n",
       "    </tr>\n",
       "  </tbody>\n",
       "</table>\n",
       "</div>"
      ],
      "text/plain": [
       "   Zipcode  IncomePerCapita  TotalPop  WithCoverage  Public  Private  \\\n",
       "0    10001          77512.0     22767         20809    5800    16795   \n",
       "1    10002          26905.0     79490         70361   40139    35167   \n",
       "2    10003          79088.0     56909         53135    8593    48522   \n",
       "3    10004          98020.0      3024          2780     180     2705   \n",
       "4    10005          99633.0      7566          6996     122     6944   \n",
       "\n",
       "   NoCoverage  Both  \n",
       "0        1958  1786  \n",
       "1        9129  4945  \n",
       "2        3774  3980  \n",
       "3         244   105  \n",
       "4         570    70  "
      ]
     },
     "execution_count": 12,
     "metadata": {},
     "output_type": "execute_result"
    }
   ],
   "source": [
    "data.head()"
   ]
  },
  {
   "cell_type": "markdown",
   "metadata": {},
   "source": [
    "(b) Modify the old data frame, or simply create a new one, such that this data frame contains (including but not limited to) the following information in each zipcode area:\n",
    "    * IncomePerCapita\n",
    "    * Total Population\n",
    "    * Population with Public Insurance coverage ONLY\n",
    "    * Population with Private Insurance coverage ONLY\n",
    "    * Population with NO Insurance coverage\n",
    "    * Population with BOTH types of Insurance coverage\n"
   ]
  },
  {
   "cell_type": "code",
   "execution_count": 13,
   "metadata": {
    "collapsed": true
   },
   "outputs": [],
   "source": [
    "data['Private_Only'] = data['Private']-data['Both']\n",
    "data['Public_Only'] = data['Public']-data['Both']\n",
    "data['No_Insurace'] = data['TotalPop']-( data['WithCoverage'])"
   ]
  },
  {
   "cell_type": "code",
   "execution_count": 14,
   "metadata": {
    "scrolled": true
   },
   "outputs": [
    {
     "data": {
      "text/html": [
       "<div>\n",
       "<style>\n",
       "    .dataframe thead tr:only-child th {\n",
       "        text-align: right;\n",
       "    }\n",
       "\n",
       "    .dataframe thead th {\n",
       "        text-align: left;\n",
       "    }\n",
       "\n",
       "    .dataframe tbody tr th {\n",
       "        vertical-align: top;\n",
       "    }\n",
       "</style>\n",
       "<table border=\"1\" class=\"dataframe\">\n",
       "  <thead>\n",
       "    <tr style=\"text-align: right;\">\n",
       "      <th></th>\n",
       "      <th>Zipcode</th>\n",
       "      <th>IncomePerCapita</th>\n",
       "      <th>TotalPop</th>\n",
       "      <th>WithCoverage</th>\n",
       "      <th>Public</th>\n",
       "      <th>Private</th>\n",
       "      <th>NoCoverage</th>\n",
       "      <th>Both</th>\n",
       "      <th>Private_Only</th>\n",
       "      <th>Public_Only</th>\n",
       "      <th>No_Insurace</th>\n",
       "    </tr>\n",
       "  </thead>\n",
       "  <tbody>\n",
       "    <tr>\n",
       "      <th>0</th>\n",
       "      <td>10001</td>\n",
       "      <td>77512.0</td>\n",
       "      <td>22767</td>\n",
       "      <td>20809</td>\n",
       "      <td>5800</td>\n",
       "      <td>16795</td>\n",
       "      <td>1958</td>\n",
       "      <td>1786</td>\n",
       "      <td>15009</td>\n",
       "      <td>4014</td>\n",
       "      <td>1958</td>\n",
       "    </tr>\n",
       "    <tr>\n",
       "      <th>1</th>\n",
       "      <td>10002</td>\n",
       "      <td>26905.0</td>\n",
       "      <td>79490</td>\n",
       "      <td>70361</td>\n",
       "      <td>40139</td>\n",
       "      <td>35167</td>\n",
       "      <td>9129</td>\n",
       "      <td>4945</td>\n",
       "      <td>30222</td>\n",
       "      <td>35194</td>\n",
       "      <td>9129</td>\n",
       "    </tr>\n",
       "    <tr>\n",
       "      <th>2</th>\n",
       "      <td>10003</td>\n",
       "      <td>79088.0</td>\n",
       "      <td>56909</td>\n",
       "      <td>53135</td>\n",
       "      <td>8593</td>\n",
       "      <td>48522</td>\n",
       "      <td>3774</td>\n",
       "      <td>3980</td>\n",
       "      <td>44542</td>\n",
       "      <td>4613</td>\n",
       "      <td>3774</td>\n",
       "    </tr>\n",
       "    <tr>\n",
       "      <th>3</th>\n",
       "      <td>10004</td>\n",
       "      <td>98020.0</td>\n",
       "      <td>3024</td>\n",
       "      <td>2780</td>\n",
       "      <td>180</td>\n",
       "      <td>2705</td>\n",
       "      <td>244</td>\n",
       "      <td>105</td>\n",
       "      <td>2600</td>\n",
       "      <td>75</td>\n",
       "      <td>244</td>\n",
       "    </tr>\n",
       "    <tr>\n",
       "      <th>4</th>\n",
       "      <td>10005</td>\n",
       "      <td>99633.0</td>\n",
       "      <td>7566</td>\n",
       "      <td>6996</td>\n",
       "      <td>122</td>\n",
       "      <td>6944</td>\n",
       "      <td>570</td>\n",
       "      <td>70</td>\n",
       "      <td>6874</td>\n",
       "      <td>52</td>\n",
       "      <td>570</td>\n",
       "    </tr>\n",
       "  </tbody>\n",
       "</table>\n",
       "</div>"
      ],
      "text/plain": [
       "   Zipcode  IncomePerCapita  TotalPop  WithCoverage  Public  Private  \\\n",
       "0    10001          77512.0     22767         20809    5800    16795   \n",
       "1    10002          26905.0     79490         70361   40139    35167   \n",
       "2    10003          79088.0     56909         53135    8593    48522   \n",
       "3    10004          98020.0      3024          2780     180     2705   \n",
       "4    10005          99633.0      7566          6996     122     6944   \n",
       "\n",
       "   NoCoverage  Both  Private_Only  Public_Only  No_Insurace  \n",
       "0        1958  1786         15009         4014         1958  \n",
       "1        9129  4945         30222        35194         9129  \n",
       "2        3774  3980         44542         4613         3774  \n",
       "3         244   105          2600           75          244  \n",
       "4         570    70          6874           52          570  "
      ]
     },
     "execution_count": 14,
     "metadata": {},
     "output_type": "execute_result"
    }
   ],
   "source": [
    "data.head()"
   ]
  },
  {
   "cell_type": "markdown",
   "metadata": {},
   "source": [
    "(c) Drop rows with NaN (if any) and convert all population counts into proportions (percentage of total population, with the form 58.3 instead of 0.583)\n"
   ]
  },
  {
   "cell_type": "code",
   "execution_count": 30,
   "metadata": {},
   "outputs": [],
   "source": [
    "data=data.replace([np.inf, -np.inf], np.nan)"
   ]
  },
  {
   "cell_type": "code",
   "execution_count": 32,
   "metadata": {},
   "outputs": [
    {
     "data": {
      "text/plain": [
       "(181, 11)"
      ]
     },
     "execution_count": 32,
     "metadata": {},
     "output_type": "execute_result"
    }
   ],
   "source": [
    "data=data.dropna(0);\n",
    "data.shape"
   ]
  },
  {
   "cell_type": "code",
   "execution_count": 33,
   "metadata": {
    "collapsed": true,
    "scrolled": true
   },
   "outputs": [],
   "source": [
    "data1=(data.iloc[:,3:11])"
   ]
  },
  {
   "cell_type": "code",
   "execution_count": 34,
   "metadata": {},
   "outputs": [],
   "source": [
    "data1=data1.divide(data.TotalPop, axis=0)*100"
   ]
  },
  {
   "cell_type": "code",
   "execution_count": 35,
   "metadata": {},
   "outputs": [
    {
     "data": {
      "text/html": [
       "<div>\n",
       "<style>\n",
       "    .dataframe thead tr:only-child th {\n",
       "        text-align: right;\n",
       "    }\n",
       "\n",
       "    .dataframe thead th {\n",
       "        text-align: left;\n",
       "    }\n",
       "\n",
       "    .dataframe tbody tr th {\n",
       "        vertical-align: top;\n",
       "    }\n",
       "</style>\n",
       "<table border=\"1\" class=\"dataframe\">\n",
       "  <thead>\n",
       "    <tr style=\"text-align: right;\">\n",
       "      <th></th>\n",
       "      <th>WithCoverage</th>\n",
       "      <th>Public</th>\n",
       "      <th>Private</th>\n",
       "      <th>NoCoverage</th>\n",
       "      <th>Both</th>\n",
       "      <th>Private_Only</th>\n",
       "      <th>Public_Only</th>\n",
       "      <th>No_Insurace</th>\n",
       "    </tr>\n",
       "  </thead>\n",
       "  <tbody>\n",
       "    <tr>\n",
       "      <th>0</th>\n",
       "      <td>0.401458</td>\n",
       "      <td>0.111896</td>\n",
       "      <td>0.324017</td>\n",
       "      <td>0.037775</td>\n",
       "      <td>0.034456</td>\n",
       "      <td>0.289561</td>\n",
       "      <td>0.077440</td>\n",
       "      <td>0.037775</td>\n",
       "    </tr>\n",
       "    <tr>\n",
       "      <th>1</th>\n",
       "      <td>0.111354</td>\n",
       "      <td>0.063525</td>\n",
       "      <td>0.055656</td>\n",
       "      <td>0.014448</td>\n",
       "      <td>0.007826</td>\n",
       "      <td>0.047830</td>\n",
       "      <td>0.055699</td>\n",
       "      <td>0.014448</td>\n",
       "    </tr>\n",
       "    <tr>\n",
       "      <th>2</th>\n",
       "      <td>0.164066</td>\n",
       "      <td>0.026533</td>\n",
       "      <td>0.149822</td>\n",
       "      <td>0.011653</td>\n",
       "      <td>0.012289</td>\n",
       "      <td>0.137533</td>\n",
       "      <td>0.014244</td>\n",
       "      <td>0.011653</td>\n",
       "    </tr>\n",
       "    <tr>\n",
       "      <th>3</th>\n",
       "      <td>3.040053</td>\n",
       "      <td>0.196838</td>\n",
       "      <td>2.958038</td>\n",
       "      <td>0.266825</td>\n",
       "      <td>0.114822</td>\n",
       "      <td>2.843215</td>\n",
       "      <td>0.082016</td>\n",
       "      <td>0.266825</td>\n",
       "    </tr>\n",
       "    <tr>\n",
       "      <th>4</th>\n",
       "      <td>1.222129</td>\n",
       "      <td>0.021312</td>\n",
       "      <td>1.213045</td>\n",
       "      <td>0.099573</td>\n",
       "      <td>0.012228</td>\n",
       "      <td>1.200817</td>\n",
       "      <td>0.009084</td>\n",
       "      <td>0.099573</td>\n",
       "    </tr>\n",
       "  </tbody>\n",
       "</table>\n",
       "</div>"
      ],
      "text/plain": [
       "   WithCoverage    Public   Private  NoCoverage      Both  Private_Only  \\\n",
       "0      0.401458  0.111896  0.324017    0.037775  0.034456      0.289561   \n",
       "1      0.111354  0.063525  0.055656    0.014448  0.007826      0.047830   \n",
       "2      0.164066  0.026533  0.149822    0.011653  0.012289      0.137533   \n",
       "3      3.040053  0.196838  2.958038    0.266825  0.114822      2.843215   \n",
       "4      1.222129  0.021312  1.213045    0.099573  0.012228      1.200817   \n",
       "\n",
       "   Public_Only  No_Insurace  \n",
       "0     0.077440     0.037775  \n",
       "1     0.055699     0.014448  \n",
       "2     0.014244     0.011653  \n",
       "3     0.082016     0.266825  \n",
       "4     0.009084     0.099573  "
      ]
     },
     "execution_count": 35,
     "metadata": {},
     "output_type": "execute_result"
    }
   ],
   "source": [
    "data1.head()"
   ]
  },
  {
   "cell_type": "code",
   "execution_count": 36,
   "metadata": {
    "scrolled": false
   },
   "outputs": [
    {
     "data": {
      "text/html": [
       "<div>\n",
       "<style>\n",
       "    .dataframe thead tr:only-child th {\n",
       "        text-align: right;\n",
       "    }\n",
       "\n",
       "    .dataframe thead th {\n",
       "        text-align: left;\n",
       "    }\n",
       "\n",
       "    .dataframe tbody tr th {\n",
       "        vertical-align: top;\n",
       "    }\n",
       "</style>\n",
       "<table border=\"1\" class=\"dataframe\">\n",
       "  <thead>\n",
       "    <tr style=\"text-align: right;\">\n",
       "      <th></th>\n",
       "      <th>Zipcode</th>\n",
       "      <th>IncomePerCapita</th>\n",
       "      <th>TotalPop</th>\n",
       "      <th>WithCoverage</th>\n",
       "      <th>Public</th>\n",
       "      <th>Private</th>\n",
       "      <th>NoCoverage</th>\n",
       "      <th>Both</th>\n",
       "      <th>Private_Only</th>\n",
       "      <th>Public_Only</th>\n",
       "      <th>No_Insurace</th>\n",
       "    </tr>\n",
       "  </thead>\n",
       "  <tbody>\n",
       "    <tr>\n",
       "      <th>0</th>\n",
       "      <td>10001</td>\n",
       "      <td>77512.0</td>\n",
       "      <td>22767</td>\n",
       "      <td>0.401458</td>\n",
       "      <td>0.111896</td>\n",
       "      <td>0.324017</td>\n",
       "      <td>0.037775</td>\n",
       "      <td>0.034456</td>\n",
       "      <td>0.289561</td>\n",
       "      <td>0.077440</td>\n",
       "      <td>0.037775</td>\n",
       "    </tr>\n",
       "    <tr>\n",
       "      <th>1</th>\n",
       "      <td>10002</td>\n",
       "      <td>26905.0</td>\n",
       "      <td>79490</td>\n",
       "      <td>0.111354</td>\n",
       "      <td>0.063525</td>\n",
       "      <td>0.055656</td>\n",
       "      <td>0.014448</td>\n",
       "      <td>0.007826</td>\n",
       "      <td>0.047830</td>\n",
       "      <td>0.055699</td>\n",
       "      <td>0.014448</td>\n",
       "    </tr>\n",
       "    <tr>\n",
       "      <th>2</th>\n",
       "      <td>10003</td>\n",
       "      <td>79088.0</td>\n",
       "      <td>56909</td>\n",
       "      <td>0.164066</td>\n",
       "      <td>0.026533</td>\n",
       "      <td>0.149822</td>\n",
       "      <td>0.011653</td>\n",
       "      <td>0.012289</td>\n",
       "      <td>0.137533</td>\n",
       "      <td>0.014244</td>\n",
       "      <td>0.011653</td>\n",
       "    </tr>\n",
       "    <tr>\n",
       "      <th>3</th>\n",
       "      <td>10004</td>\n",
       "      <td>98020.0</td>\n",
       "      <td>3024</td>\n",
       "      <td>3.040053</td>\n",
       "      <td>0.196838</td>\n",
       "      <td>2.958038</td>\n",
       "      <td>0.266825</td>\n",
       "      <td>0.114822</td>\n",
       "      <td>2.843215</td>\n",
       "      <td>0.082016</td>\n",
       "      <td>0.266825</td>\n",
       "    </tr>\n",
       "    <tr>\n",
       "      <th>4</th>\n",
       "      <td>10005</td>\n",
       "      <td>99633.0</td>\n",
       "      <td>7566</td>\n",
       "      <td>1.222129</td>\n",
       "      <td>0.021312</td>\n",
       "      <td>1.213045</td>\n",
       "      <td>0.099573</td>\n",
       "      <td>0.012228</td>\n",
       "      <td>1.200817</td>\n",
       "      <td>0.009084</td>\n",
       "      <td>0.099573</td>\n",
       "    </tr>\n",
       "  </tbody>\n",
       "</table>\n",
       "</div>"
      ],
      "text/plain": [
       "   Zipcode  IncomePerCapita  TotalPop  WithCoverage    Public   Private  \\\n",
       "0    10001          77512.0     22767      0.401458  0.111896  0.324017   \n",
       "1    10002          26905.0     79490      0.111354  0.063525  0.055656   \n",
       "2    10003          79088.0     56909      0.164066  0.026533  0.149822   \n",
       "3    10004          98020.0      3024      3.040053  0.196838  2.958038   \n",
       "4    10005          99633.0      7566      1.222129  0.021312  1.213045   \n",
       "\n",
       "   NoCoverage      Both  Private_Only  Public_Only  No_Insurace  \n",
       "0    0.037775  0.034456      0.289561     0.077440     0.037775  \n",
       "1    0.014448  0.007826      0.047830     0.055699     0.014448  \n",
       "2    0.011653  0.012289      0.137533     0.014244     0.011653  \n",
       "3    0.266825  0.114822      2.843215     0.082016     0.266825  \n",
       "4    0.099573  0.012228      1.200817     0.009084     0.099573  "
      ]
     },
     "execution_count": 36,
     "metadata": {},
     "output_type": "execute_result"
    }
   ],
   "source": [
    "data =pd.concat([data.iloc[:,0:3], data1],axis = 1, join = 'outer')\n",
    "data.head()"
   ]
  },
  {
   "cell_type": "markdown",
   "metadata": {},
   "source": [
    "(d) Regress over these proportions (the ones mentioned in part b, leave out \"No Insurance Coverage\") to predict income -- What interesting results do we have here? Briefly state what you've obtained.\n",
    "    * Total Pop\n",
    "    * Population with Public Insurance coverage ONLY\n",
    "    * Population with Private Insurance coverage ONLY\n",
    "    * Population with Both\n",
    "    \n",
    "    Y  = IncomePerCapita"
   ]
  },
  {
   "cell_type": "code",
   "execution_count": 37,
   "metadata": {},
   "outputs": [
    {
     "name": "stdout",
     "output_type": "stream",
     "text": [
      "R2 = 0.297445\n",
      "Intercept       38861.885769\n",
      "TotalPop           -0.160153\n",
      "Private_Only    31328.123187\n",
      "Public_Only      -593.855279\n",
      "Both             1530.082816\n",
      "dtype: float64\n"
     ]
    }
   ],
   "source": [
    "lm1 = smf.ols(formula = 'IncomePerCapita ~ TotalPop + Private_Only  + Public_Only + Both', data = data).fit()\n",
    "print('R2 = %f'%lm1.rsquared)\n",
    "print(lm1.params)"
   ]
  },
  {
   "cell_type": "markdown",
   "metadata": {},
   "source": [
    "#### Extra credit:\n",
    "* (e) Visualize the observed income versus the predicted income, like what we did in the lab session. Does this fitted line look great or not? If you're not sure, check the correlation matrix and make a guess."
   ]
  },
  {
   "cell_type": "code",
   "execution_count": 38,
   "metadata": {},
   "outputs": [
    {
     "data": {
      "text/html": [
       "<div>\n",
       "<style>\n",
       "    .dataframe thead tr:only-child th {\n",
       "        text-align: right;\n",
       "    }\n",
       "\n",
       "    .dataframe thead th {\n",
       "        text-align: left;\n",
       "    }\n",
       "\n",
       "    .dataframe tbody tr th {\n",
       "        vertical-align: top;\n",
       "    }\n",
       "</style>\n",
       "<table border=\"1\" class=\"dataframe\">\n",
       "  <thead>\n",
       "    <tr style=\"text-align: right;\">\n",
       "      <th></th>\n",
       "      <th>WithCoverage</th>\n",
       "      <th>Public</th>\n",
       "      <th>Private</th>\n",
       "      <th>NoCoverage</th>\n",
       "      <th>Both</th>\n",
       "      <th>Private_Only</th>\n",
       "      <th>Public_Only</th>\n",
       "      <th>No_Insurace</th>\n",
       "    </tr>\n",
       "  </thead>\n",
       "  <tbody>\n",
       "    <tr>\n",
       "      <th>0</th>\n",
       "      <td>0.401458</td>\n",
       "      <td>0.111896</td>\n",
       "      <td>0.324017</td>\n",
       "      <td>0.037775</td>\n",
       "      <td>0.034456</td>\n",
       "      <td>0.289561</td>\n",
       "      <td>0.077440</td>\n",
       "      <td>0.037775</td>\n",
       "    </tr>\n",
       "    <tr>\n",
       "      <th>1</th>\n",
       "      <td>0.111354</td>\n",
       "      <td>0.063525</td>\n",
       "      <td>0.055656</td>\n",
       "      <td>0.014448</td>\n",
       "      <td>0.007826</td>\n",
       "      <td>0.047830</td>\n",
       "      <td>0.055699</td>\n",
       "      <td>0.014448</td>\n",
       "    </tr>\n",
       "    <tr>\n",
       "      <th>2</th>\n",
       "      <td>0.164066</td>\n",
       "      <td>0.026533</td>\n",
       "      <td>0.149822</td>\n",
       "      <td>0.011653</td>\n",
       "      <td>0.012289</td>\n",
       "      <td>0.137533</td>\n",
       "      <td>0.014244</td>\n",
       "      <td>0.011653</td>\n",
       "    </tr>\n",
       "    <tr>\n",
       "      <th>3</th>\n",
       "      <td>3.040053</td>\n",
       "      <td>0.196838</td>\n",
       "      <td>2.958038</td>\n",
       "      <td>0.266825</td>\n",
       "      <td>0.114822</td>\n",
       "      <td>2.843215</td>\n",
       "      <td>0.082016</td>\n",
       "      <td>0.266825</td>\n",
       "    </tr>\n",
       "    <tr>\n",
       "      <th>4</th>\n",
       "      <td>1.222129</td>\n",
       "      <td>0.021312</td>\n",
       "      <td>1.213045</td>\n",
       "      <td>0.099573</td>\n",
       "      <td>0.012228</td>\n",
       "      <td>1.200817</td>\n",
       "      <td>0.009084</td>\n",
       "      <td>0.099573</td>\n",
       "    </tr>\n",
       "  </tbody>\n",
       "</table>\n",
       "</div>"
      ],
      "text/plain": [
       "   WithCoverage    Public   Private  NoCoverage      Both  Private_Only  \\\n",
       "0      0.401458  0.111896  0.324017    0.037775  0.034456      0.289561   \n",
       "1      0.111354  0.063525  0.055656    0.014448  0.007826      0.047830   \n",
       "2      0.164066  0.026533  0.149822    0.011653  0.012289      0.137533   \n",
       "3      3.040053  0.196838  2.958038    0.266825  0.114822      2.843215   \n",
       "4      1.222129  0.021312  1.213045    0.099573  0.012228      1.200817   \n",
       "\n",
       "   Public_Only  No_Insurace  \n",
       "0     0.077440     0.037775  \n",
       "1     0.055699     0.014448  \n",
       "2     0.014244     0.011653  \n",
       "3     0.082016     0.266825  \n",
       "4     0.009084     0.099573  "
      ]
     },
     "execution_count": 38,
     "metadata": {},
     "output_type": "execute_result"
    }
   ],
   "source": [
    "data1.head()"
   ]
  },
  {
   "cell_type": "code",
   "execution_count": 39,
   "metadata": {
    "scrolled": true
   },
   "outputs": [
    {
     "data": {
      "text/html": [
       "<div>\n",
       "<style>\n",
       "    .dataframe thead tr:only-child th {\n",
       "        text-align: right;\n",
       "    }\n",
       "\n",
       "    .dataframe thead th {\n",
       "        text-align: left;\n",
       "    }\n",
       "\n",
       "    .dataframe tbody tr th {\n",
       "        vertical-align: top;\n",
       "    }\n",
       "</style>\n",
       "<table border=\"1\" class=\"dataframe\">\n",
       "  <thead>\n",
       "    <tr style=\"text-align: right;\">\n",
       "      <th></th>\n",
       "      <th>Zipcode</th>\n",
       "      <th>IncomePerCapita</th>\n",
       "      <th>TotalPop</th>\n",
       "      <th>WithCoverage</th>\n",
       "      <th>Public</th>\n",
       "      <th>Private</th>\n",
       "      <th>NoCoverage</th>\n",
       "      <th>Both</th>\n",
       "      <th>Private_Only</th>\n",
       "      <th>Public_Only</th>\n",
       "      <th>No_Insurace</th>\n",
       "    </tr>\n",
       "  </thead>\n",
       "  <tbody>\n",
       "    <tr>\n",
       "      <th>0</th>\n",
       "      <td>10001</td>\n",
       "      <td>77512.0</td>\n",
       "      <td>22767</td>\n",
       "      <td>0.401458</td>\n",
       "      <td>0.111896</td>\n",
       "      <td>0.324017</td>\n",
       "      <td>0.037775</td>\n",
       "      <td>0.034456</td>\n",
       "      <td>0.289561</td>\n",
       "      <td>0.077440</td>\n",
       "      <td>0.037775</td>\n",
       "    </tr>\n",
       "    <tr>\n",
       "      <th>1</th>\n",
       "      <td>10002</td>\n",
       "      <td>26905.0</td>\n",
       "      <td>79490</td>\n",
       "      <td>0.111354</td>\n",
       "      <td>0.063525</td>\n",
       "      <td>0.055656</td>\n",
       "      <td>0.014448</td>\n",
       "      <td>0.007826</td>\n",
       "      <td>0.047830</td>\n",
       "      <td>0.055699</td>\n",
       "      <td>0.014448</td>\n",
       "    </tr>\n",
       "    <tr>\n",
       "      <th>2</th>\n",
       "      <td>10003</td>\n",
       "      <td>79088.0</td>\n",
       "      <td>56909</td>\n",
       "      <td>0.164066</td>\n",
       "      <td>0.026533</td>\n",
       "      <td>0.149822</td>\n",
       "      <td>0.011653</td>\n",
       "      <td>0.012289</td>\n",
       "      <td>0.137533</td>\n",
       "      <td>0.014244</td>\n",
       "      <td>0.011653</td>\n",
       "    </tr>\n",
       "    <tr>\n",
       "      <th>3</th>\n",
       "      <td>10004</td>\n",
       "      <td>98020.0</td>\n",
       "      <td>3024</td>\n",
       "      <td>3.040053</td>\n",
       "      <td>0.196838</td>\n",
       "      <td>2.958038</td>\n",
       "      <td>0.266825</td>\n",
       "      <td>0.114822</td>\n",
       "      <td>2.843215</td>\n",
       "      <td>0.082016</td>\n",
       "      <td>0.266825</td>\n",
       "    </tr>\n",
       "    <tr>\n",
       "      <th>4</th>\n",
       "      <td>10005</td>\n",
       "      <td>99633.0</td>\n",
       "      <td>7566</td>\n",
       "      <td>1.222129</td>\n",
       "      <td>0.021312</td>\n",
       "      <td>1.213045</td>\n",
       "      <td>0.099573</td>\n",
       "      <td>0.012228</td>\n",
       "      <td>1.200817</td>\n",
       "      <td>0.009084</td>\n",
       "      <td>0.099573</td>\n",
       "    </tr>\n",
       "  </tbody>\n",
       "</table>\n",
       "</div>"
      ],
      "text/plain": [
       "   Zipcode  IncomePerCapita  TotalPop  WithCoverage    Public   Private  \\\n",
       "0    10001          77512.0     22767      0.401458  0.111896  0.324017   \n",
       "1    10002          26905.0     79490      0.111354  0.063525  0.055656   \n",
       "2    10003          79088.0     56909      0.164066  0.026533  0.149822   \n",
       "3    10004          98020.0      3024      3.040053  0.196838  2.958038   \n",
       "4    10005          99633.0      7566      1.222129  0.021312  1.213045   \n",
       "\n",
       "   NoCoverage      Both  Private_Only  Public_Only  No_Insurace  \n",
       "0    0.037775  0.034456      0.289561     0.077440     0.037775  \n",
       "1    0.014448  0.007826      0.047830     0.055699     0.014448  \n",
       "2    0.011653  0.012289      0.137533     0.014244     0.011653  \n",
       "3    0.266825  0.114822      2.843215     0.082016     0.266825  \n",
       "4    0.099573  0.012228      1.200817     0.009084     0.099573  "
      ]
     },
     "execution_count": 39,
     "metadata": {},
     "output_type": "execute_result"
    }
   ],
   "source": [
    "data.head()"
   ]
  },
  {
   "cell_type": "code",
   "execution_count": 40,
   "metadata": {},
   "outputs": [
    {
     "data": {
      "text/plain": [
       "Index([u'Zipcode', u'IncomePerCapita', u'TotalPop', u'WithCoverage', u'Public',\n",
       "       u'Private', u'NoCoverage', u'Both', u'Private_Only', u'Public_Only',\n",
       "       u'No_Insurace'],\n",
       "      dtype='object')"
      ]
     },
     "execution_count": 40,
     "metadata": {},
     "output_type": "execute_result"
    }
   ],
   "source": [
    "data.columns"
   ]
  },
  {
   "cell_type": "code",
   "execution_count": 41,
   "metadata": {},
   "outputs": [
    {
     "data": {
      "text/plain": [
       "TotalPop        0\n",
       "Private_Only    0\n",
       "Public_Only     0\n",
       "Both            0\n",
       "dtype: int64"
      ]
     },
     "execution_count": 41,
     "metadata": {},
     "output_type": "execute_result"
    }
   ],
   "source": [
    "isnan(data.loc[:,['TotalPop','Private_Only','Public_Only','Both']]).sum()"
   ]
  },
  {
   "cell_type": "code",
   "execution_count": 42,
   "metadata": {},
   "outputs": [
    {
     "data": {
      "text/plain": [
       "IncomePerCapita    0\n",
       "dtype: int64"
      ]
     },
     "execution_count": 42,
     "metadata": {},
     "output_type": "execute_result"
    }
   ],
   "source": [
    "isnan(data.loc[:,['IncomePerCapita']]).sum()"
   ]
  },
  {
   "cell_type": "code",
   "execution_count": 43,
   "metadata": {},
   "outputs": [
    {
     "name": "stdout",
     "output_type": "stream",
     "text": [
      "[[  4.21677830e-01]\n",
      " [  5.68958908e+04]\n",
      " [  1.51834601e+02]\n",
      " [  1.37974385e+04]]\n"
     ]
    }
   ],
   "source": [
    "X = np.matrix(data.loc[:,['TotalPop','Private_Only','Public_Only','Both']])\n",
    "Y = np.matrix(data.loc[:,['IncomePerCapita']])\n",
    "w = (X.T * X).I * X.T * Y\n",
    "print(w)"
   ]
  },
  {
   "cell_type": "code",
   "execution_count": 44,
   "metadata": {
    "scrolled": true
   },
   "outputs": [
    {
     "data": {
      "text/html": [
       "<div>\n",
       "<style>\n",
       "    .dataframe thead tr:only-child th {\n",
       "        text-align: right;\n",
       "    }\n",
       "\n",
       "    .dataframe thead th {\n",
       "        text-align: left;\n",
       "    }\n",
       "\n",
       "    .dataframe tbody tr th {\n",
       "        vertical-align: top;\n",
       "    }\n",
       "</style>\n",
       "<table border=\"1\" class=\"dataframe\">\n",
       "  <thead>\n",
       "    <tr style=\"text-align: right;\">\n",
       "      <th></th>\n",
       "      <th>Zipcode</th>\n",
       "      <th>IncomePerCapita</th>\n",
       "      <th>TotalPop</th>\n",
       "      <th>WithCoverage</th>\n",
       "      <th>Public</th>\n",
       "      <th>Private</th>\n",
       "      <th>NoCoverage</th>\n",
       "      <th>Both</th>\n",
       "      <th>Private_Only</th>\n",
       "      <th>Public_Only</th>\n",
       "      <th>No_Insurace</th>\n",
       "    </tr>\n",
       "  </thead>\n",
       "  <tbody>\n",
       "    <tr>\n",
       "      <th>count</th>\n",
       "      <td>181.000000</td>\n",
       "      <td>181.000000</td>\n",
       "      <td>181.000000</td>\n",
       "      <td>181.000000</td>\n",
       "      <td>181.000000</td>\n",
       "      <td>181.000000</td>\n",
       "      <td>181.000000</td>\n",
       "      <td>181.000000</td>\n",
       "      <td>181.000000</td>\n",
       "      <td>181.000000</td>\n",
       "      <td>181.000000</td>\n",
       "    </tr>\n",
       "    <tr>\n",
       "      <th>mean</th>\n",
       "      <td>10817.198895</td>\n",
       "      <td>38940.607735</td>\n",
       "      <td>46137.187845</td>\n",
       "      <td>0.673252</td>\n",
       "      <td>0.429943</td>\n",
       "      <td>0.290684</td>\n",
       "      <td>0.058935</td>\n",
       "      <td>0.047376</td>\n",
       "      <td>0.243309</td>\n",
       "      <td>0.382567</td>\n",
       "      <td>0.058935</td>\n",
       "    </tr>\n",
       "    <tr>\n",
       "      <th>std</th>\n",
       "      <td>574.149143</td>\n",
       "      <td>29842.785729</td>\n",
       "      <td>26630.135285</td>\n",
       "      <td>4.079088</td>\n",
       "      <td>4.070498</td>\n",
       "      <td>0.513026</td>\n",
       "      <td>0.279368</td>\n",
       "      <td>0.229885</td>\n",
       "      <td>0.425519</td>\n",
       "      <td>4.062456</td>\n",
       "      <td>0.279368</td>\n",
       "    </tr>\n",
       "    <tr>\n",
       "      <th>min</th>\n",
       "      <td>10001.000000</td>\n",
       "      <td>8278.000000</td>\n",
       "      <td>171.000000</td>\n",
       "      <td>0.059952</td>\n",
       "      <td>0.021312</td>\n",
       "      <td>0.000000</td>\n",
       "      <td>0.000000</td>\n",
       "      <td>0.000000</td>\n",
       "      <td>0.000000</td>\n",
       "      <td>0.009084</td>\n",
       "      <td>0.000000</td>\n",
       "    </tr>\n",
       "    <tr>\n",
       "      <th>25%</th>\n",
       "      <td>10302.000000</td>\n",
       "      <td>21905.000000</td>\n",
       "      <td>25933.000000</td>\n",
       "      <td>0.132926</td>\n",
       "      <td>0.057762</td>\n",
       "      <td>0.076434</td>\n",
       "      <td>0.017074</td>\n",
       "      <td>0.010881</td>\n",
       "      <td>0.065058</td>\n",
       "      <td>0.043890</td>\n",
       "      <td>0.017074</td>\n",
       "    </tr>\n",
       "    <tr>\n",
       "      <th>50%</th>\n",
       "      <td>11106.000000</td>\n",
       "      <td>27811.000000</td>\n",
       "      <td>41572.000000</td>\n",
       "      <td>0.213426</td>\n",
       "      <td>0.081037</td>\n",
       "      <td>0.143431</td>\n",
       "      <td>0.027191</td>\n",
       "      <td>0.018138</td>\n",
       "      <td>0.123796</td>\n",
       "      <td>0.059846</td>\n",
       "      <td>0.027191</td>\n",
       "    </tr>\n",
       "    <tr>\n",
       "      <th>75%</th>\n",
       "      <td>11361.000000</td>\n",
       "      <td>39540.000000</td>\n",
       "      <td>64774.000000</td>\n",
       "      <td>0.340351</td>\n",
       "      <td>0.124975</td>\n",
       "      <td>0.272022</td>\n",
       "      <td>0.048204</td>\n",
       "      <td>0.030074</td>\n",
       "      <td>0.228851</td>\n",
       "      <td>0.091371</td>\n",
       "      <td>0.048204</td>\n",
       "    </tr>\n",
       "    <tr>\n",
       "      <th>max</th>\n",
       "      <td>11697.000000</td>\n",
       "      <td>173257.000000</td>\n",
       "      <td>109936.000000</td>\n",
       "      <td>54.717691</td>\n",
       "      <td>54.717691</td>\n",
       "      <td>3.461183</td>\n",
       "      <td>3.761841</td>\n",
       "      <td>3.035192</td>\n",
       "      <td>3.151968</td>\n",
       "      <td>54.717691</td>\n",
       "      <td>3.761841</td>\n",
       "    </tr>\n",
       "  </tbody>\n",
       "</table>\n",
       "</div>"
      ],
      "text/plain": [
       "            Zipcode  IncomePerCapita       TotalPop  WithCoverage      Public  \\\n",
       "count    181.000000       181.000000     181.000000    181.000000  181.000000   \n",
       "mean   10817.198895     38940.607735   46137.187845      0.673252    0.429943   \n",
       "std      574.149143     29842.785729   26630.135285      4.079088    4.070498   \n",
       "min    10001.000000      8278.000000     171.000000      0.059952    0.021312   \n",
       "25%    10302.000000     21905.000000   25933.000000      0.132926    0.057762   \n",
       "50%    11106.000000     27811.000000   41572.000000      0.213426    0.081037   \n",
       "75%    11361.000000     39540.000000   64774.000000      0.340351    0.124975   \n",
       "max    11697.000000    173257.000000  109936.000000     54.717691   54.717691   \n",
       "\n",
       "          Private  NoCoverage        Both  Private_Only  Public_Only  \\\n",
       "count  181.000000  181.000000  181.000000    181.000000   181.000000   \n",
       "mean     0.290684    0.058935    0.047376      0.243309     0.382567   \n",
       "std      0.513026    0.279368    0.229885      0.425519     4.062456   \n",
       "min      0.000000    0.000000    0.000000      0.000000     0.009084   \n",
       "25%      0.076434    0.017074    0.010881      0.065058     0.043890   \n",
       "50%      0.143431    0.027191    0.018138      0.123796     0.059846   \n",
       "75%      0.272022    0.048204    0.030074      0.228851     0.091371   \n",
       "max      3.461183    3.761841    3.035192      3.151968    54.717691   \n",
       "\n",
       "       No_Insurace  \n",
       "count   181.000000  \n",
       "mean      0.058935  \n",
       "std       0.279368  \n",
       "min       0.000000  \n",
       "25%       0.017074  \n",
       "50%       0.027191  \n",
       "75%       0.048204  \n",
       "max       3.761841  "
      ]
     },
     "execution_count": 44,
     "metadata": {},
     "output_type": "execute_result"
    }
   ],
   "source": [
    "data.describe()"
   ]
  },
  {
   "cell_type": "code",
   "execution_count": 50,
   "metadata": {},
   "outputs": [
    {
     "data": {
      "text/plain": [
       "Intercept       38861.885769\n",
       "TotalPop           -0.160153\n",
       "Private_Only    31328.123187\n",
       "Public_Only      -593.855279\n",
       "Both             1530.082816\n",
       "dtype: float64"
      ]
     },
     "execution_count": 50,
     "metadata": {},
     "output_type": "execute_result"
    }
   ],
   "source": [
    "lm1.params"
   ]
  },
  {
   "cell_type": "code",
   "execution_count": 53,
   "metadata": {
    "scrolled": true
   },
   "outputs": [],
   "source": [
    "\n",
    "fit_y = lm1.params[0] + lm1.params[1] * data.TotalPop + lm1.params[2] * data.Private_Only + lm1.params[3] * data.Public_Only + lm1.params[4] * data.Both\n",
    "pl.plot(,fit_y,'-')"
   ]
  },
  {
   "cell_type": "markdown",
   "metadata": {},
   "source": [
    "## EX 3, Polynomial fit (40+30pt -- 4+5+3$\\times$4+5+3$\\times$3+5+30)\n",
    "\n",
    "### Try to fit y with a polynomial $$\\hat y(x,w) = \\sum\\limits_{i=1}^M w_i\\cdot x^i$$ with the given dataset 'H33.csv'\n",
    "\n",
    "### Tasks:\n",
    "* (a) Draw the scatter plot of x and y, guess what polynomial could be the best choice. (The name \"x1\" denotes $x^1$.)\n",
    "* (b) Create new columns in data frame to contain the information of $x^2, x^3, x^4$\n",
    "* (c) Try to fit y with polynomial of x with order 1, 2, 3, 4, respectively\n",
    "    * For each model, store your fitted parameters as well as your $R^2$\n",
    "* (d) Report the $R^2$, plot it and observe how it changes\n",
    "* (e) Create a figure with four (4) subfigures, one for each polynomial degree M = 1, 2, 3, 4. In each subfigure:\n",
    "    * (e.1) Draw the original scatter plot of x1 and y\n",
    "    * (e.2) Plot the curve of true function $f(x) = 9x^2 - x + 1$\n",
    "    * (e.3) Plot your fitted curve of degree M, observe how our model fits the data as M increases\n",
    "* (f) Based on the plot, which model(s) fits the true curve best? Then provide the best coefficients $\\hat w$\n",
    "### Extra credit\n",
    "* (g) In each subfigure:\n",
    "    * (g.1) Pick an x value (at your discretion) $x_0$, then locate the y value both on your fitted curve and on our function curve ($f(x_0)$)\n",
    "    * (g.2) Mark these two points with a small diamond, then draw a dashed line connecting them, showing \"prediction error\"\n",
    "    * (g.3) Repeat g.1 and g.2 up to ten times (i.e. select up to ten random different future points and predict their values, compare your prediction with the true value), then:\n",
    "        * Compute the average sum of squares of errors $E = \\frac{\\sum_i^n (y_i - f(x_i))^2}{n}$ ($x_i$ denotes your future points), mention it in your subfigure's title (**Be sure to use the SAME future points for ALL 4 models when you calculate prediction error**)\n",
    "        * Which model has the smallest average error $E$? Does this fitted polynomial coincides with the M you picked in part f?"
   ]
  },
  {
   "cell_type": "markdown",
   "metadata": {},
   "source": [
    "(a) Draw the scatter plot of x and y, guess what polynomial could be the best choice. (The name \"x1\" denotes $x^1$.)"
   ]
  },
  {
   "cell_type": "code",
   "execution_count": 54,
   "metadata": {},
   "outputs": [
    {
     "data": {
      "text/html": [
       "<div>\n",
       "<style>\n",
       "    .dataframe thead tr:only-child th {\n",
       "        text-align: right;\n",
       "    }\n",
       "\n",
       "    .dataframe thead th {\n",
       "        text-align: left;\n",
       "    }\n",
       "\n",
       "    .dataframe tbody tr th {\n",
       "        vertical-align: top;\n",
       "    }\n",
       "</style>\n",
       "<table border=\"1\" class=\"dataframe\">\n",
       "  <thead>\n",
       "    <tr style=\"text-align: right;\">\n",
       "      <th></th>\n",
       "      <th>y</th>\n",
       "      <th>x1</th>\n",
       "    </tr>\n",
       "  </thead>\n",
       "  <tbody>\n",
       "    <tr>\n",
       "      <th>0</th>\n",
       "      <td>2.613388</td>\n",
       "      <td>-0.50</td>\n",
       "    </tr>\n",
       "    <tr>\n",
       "      <th>1</th>\n",
       "      <td>2.170351</td>\n",
       "      <td>-0.32</td>\n",
       "    </tr>\n",
       "    <tr>\n",
       "      <th>2</th>\n",
       "      <td>0.049546</td>\n",
       "      <td>-0.14</td>\n",
       "    </tr>\n",
       "    <tr>\n",
       "      <th>3</th>\n",
       "      <td>1.158258</td>\n",
       "      <td>0.04</td>\n",
       "    </tr>\n",
       "    <tr>\n",
       "      <th>4</th>\n",
       "      <td>1.397567</td>\n",
       "      <td>0.22</td>\n",
       "    </tr>\n",
       "  </tbody>\n",
       "</table>\n",
       "</div>"
      ],
      "text/plain": [
       "          y    x1\n",
       "0  2.613388 -0.50\n",
       "1  2.170351 -0.32\n",
       "2  0.049546 -0.14\n",
       "3  1.158258  0.04\n",
       "4  1.397567  0.22"
      ]
     },
     "execution_count": 54,
     "metadata": {},
     "output_type": "execute_result"
    }
   ],
   "source": [
    "H33 = pd.read_csv('data/H33.csv')\n",
    "H33.head()"
   ]
  },
  {
   "cell_type": "code",
   "execution_count": 55,
   "metadata": {},
   "outputs": [
    {
     "data": {
      "text/plain": [
       "[<matplotlib.lines.Line2D at 0x7fb0b68b5510>]"
      ]
     },
     "execution_count": 55,
     "metadata": {},
     "output_type": "execute_result"
    },
    {
     "data": {
      "image/png": "[encoded data removed]",
      "text/plain": [
       "<matplotlib.figure.Figure at 0x7fb0b6e3ee10>"
      ]
     },
     "metadata": {},
     "output_type": "display_data"
    }
   ],
   "source": [
    "plot(H33.x1, H33.y, 'x')"
   ]
  },
  {
   "cell_type": "markdown",
   "metadata": {},
   "source": [
    "Y = $aX^2$  a>0"
   ]
  },
  {
   "cell_type": "markdown",
   "metadata": {},
   "source": [
    "(b) Create new columns in data frame to contain the information of $x^2, x^3, x^4$\n"
   ]
  },
  {
   "cell_type": "code",
   "execution_count": 56,
   "metadata": {
    "collapsed": true
   },
   "outputs": [],
   "source": [
    "H33['x2'] = H33.x1**2\n",
    "H33['x3'] = H33.x1**3\n",
    "H33['x4']=H33.x1**4"
   ]
  },
  {
   "cell_type": "code",
   "execution_count": 57,
   "metadata": {},
   "outputs": [
    {
     "data": {
      "text/html": [
       "<div>\n",
       "<style>\n",
       "    .dataframe thead tr:only-child th {\n",
       "        text-align: right;\n",
       "    }\n",
       "\n",
       "    .dataframe thead th {\n",
       "        text-align: left;\n",
       "    }\n",
       "\n",
       "    .dataframe tbody tr th {\n",
       "        vertical-align: top;\n",
       "    }\n",
       "</style>\n",
       "<table border=\"1\" class=\"dataframe\">\n",
       "  <thead>\n",
       "    <tr style=\"text-align: right;\">\n",
       "      <th></th>\n",
       "      <th>y</th>\n",
       "      <th>x1</th>\n",
       "      <th>x2</th>\n",
       "      <th>x3</th>\n",
       "      <th>x4</th>\n",
       "    </tr>\n",
       "  </thead>\n",
       "  <tbody>\n",
       "    <tr>\n",
       "      <th>0</th>\n",
       "      <td>2.613388</td>\n",
       "      <td>-0.50</td>\n",
       "      <td>0.2500</td>\n",
       "      <td>-0.125000</td>\n",
       "      <td>0.062500</td>\n",
       "    </tr>\n",
       "    <tr>\n",
       "      <th>1</th>\n",
       "      <td>2.170351</td>\n",
       "      <td>-0.32</td>\n",
       "      <td>0.1024</td>\n",
       "      <td>-0.032768</td>\n",
       "      <td>0.010486</td>\n",
       "    </tr>\n",
       "    <tr>\n",
       "      <th>2</th>\n",
       "      <td>0.049546</td>\n",
       "      <td>-0.14</td>\n",
       "      <td>0.0196</td>\n",
       "      <td>-0.002744</td>\n",
       "      <td>0.000384</td>\n",
       "    </tr>\n",
       "    <tr>\n",
       "      <th>3</th>\n",
       "      <td>1.158258</td>\n",
       "      <td>0.04</td>\n",
       "      <td>0.0016</td>\n",
       "      <td>0.000064</td>\n",
       "      <td>0.000003</td>\n",
       "    </tr>\n",
       "    <tr>\n",
       "      <th>4</th>\n",
       "      <td>1.397567</td>\n",
       "      <td>0.22</td>\n",
       "      <td>0.0484</td>\n",
       "      <td>0.010648</td>\n",
       "      <td>0.002343</td>\n",
       "    </tr>\n",
       "  </tbody>\n",
       "</table>\n",
       "</div>"
      ],
      "text/plain": [
       "          y    x1      x2        x3        x4\n",
       "0  2.613388 -0.50  0.2500 -0.125000  0.062500\n",
       "1  2.170351 -0.32  0.1024 -0.032768  0.010486\n",
       "2  0.049546 -0.14  0.0196 -0.002744  0.000384\n",
       "3  1.158258  0.04  0.0016  0.000064  0.000003\n",
       "4  1.397567  0.22  0.0484  0.010648  0.002343"
      ]
     },
     "execution_count": 57,
     "metadata": {},
     "output_type": "execute_result"
    }
   ],
   "source": [
    "H33.head()"
   ]
  },
  {
   "cell_type": "markdown",
   "metadata": {},
   "source": [
    "(c) Try to fit y with polynomial of x with order 1, 2, 3, 4, respectively"
   ]
  },
  {
   "cell_type": "code",
   "execution_count": 59,
   "metadata": {
    "scrolled": true
   },
   "outputs": [
    {
     "data": {
      "text/plain": [
       "0.1047961716238156"
      ]
     },
     "execution_count": 59,
     "metadata": {},
     "output_type": "execute_result"
    }
   ],
   "source": [
    "(smf.ols(formula = 'y ~ x1', data = H33).fit()).rsquared"
   ]
  },
  {
   "cell_type": "code",
   "execution_count": 82,
   "metadata": {},
   "outputs": [
    {
     "data": {
      "text/plain": [
       "0.65125881311682732"
      ]
     },
     "execution_count": 82,
     "metadata": {},
     "output_type": "execute_result"
    }
   ],
   "source": [
    "(smf.ols(formula = 'y ~ x1 + x2', data = H33).fit()).rsquared"
   ]
  },
  {
   "cell_type": "code",
   "execution_count": 83,
   "metadata": {},
   "outputs": [
    {
     "data": {
      "text/plain": [
       "0.66574886312199211"
      ]
     },
     "execution_count": 83,
     "metadata": {},
     "output_type": "execute_result"
    }
   ],
   "source": [
    "(smf.ols(formula = 'y ~ x1 + x2 + x3', data = H33).fit()).rsquared"
   ]
  },
  {
   "cell_type": "code",
   "execution_count": 84,
   "metadata": {},
   "outputs": [
    {
     "data": {
      "text/plain": [
       "0.80198630229302026"
      ]
     },
     "execution_count": 84,
     "metadata": {},
     "output_type": "execute_result"
    }
   ],
   "source": [
    "(smf.ols(formula = 'y ~ x1 + x2 + x3+ x4', data = H33).fit()).rsquared"
   ]
  },
  {
   "cell_type": "markdown",
   "metadata": {},
   "source": [
    "(d) Report the $R^2$, plot it and observe how it changes"
   ]
  },
  {
   "cell_type": "code",
   "execution_count": 71,
   "metadata": {
    "collapsed": true
   },
   "outputs": [],
   "source": [
    "def MultiReg(data, degree):\n",
    "    # First create a string for controlling the number of x_i\n",
    "    string = ''\n",
    "    for i in range(degree):\n",
    "        string += str(i+1)  # For example, if degree == 3, then this string would be '123' at the end\n",
    "    formula = 'y ~ x' + ' + x'.join(string) # join function will convert '123' to '1 + x2 + x3'\n",
    "\n",
    "    # Perform regression and return the results\n",
    "    lm = smf.ols(formula = formula, data = data).fit()\n",
    "    return lm.rsquared, lm.params\n"
   ]
  },
  {
   "cell_type": "code",
   "execution_count": 72,
   "metadata": {},
   "outputs": [
    {
     "data": {
      "text/plain": [
       "[0.1047961716238156,\n",
       " 0.65125881311682732,\n",
       " 0.66574886312199211,\n",
       " 0.80198630229302026]"
      ]
     },
     "execution_count": 72,
     "metadata": {},
     "output_type": "execute_result"
    }
   ],
   "source": [
    "# Run the function and store the results separately\n",
    "R2 = []; Params = []\n",
    "for M in range(1,5):\n",
    "    a,b = MultiReg(H33,M)  # For each M, run the function\n",
    "    R2.append(a)\n",
    "    Params.append(b)\n",
    "R2"
   ]
  },
  {
   "cell_type": "code",
   "execution_count": 73,
   "metadata": {
    "scrolled": true
   },
   "outputs": [
    {
     "data": {
      "image/png": "[encoded data removed]",
      "text/plain": [
       "<matplotlib.figure.Figure at 0x7fb0b67a9bd0>"
      ]
     },
     "metadata": {},
     "output_type": "display_data"
    }
   ],
   "source": [
    "plt.plot(range(1,5),R2,'ro--', markersize = 8)\n",
    "plt.xlabel('Degree M of polynomial', fontsize = 14)\n",
    "plt.ylabel('$R^2$ of the model', fontsize = 16)\n",
    "plt.show()"
   ]
  },
  {
   "cell_type": "markdown",
   "metadata": {},
   "source": [
    "* (e) Create a figure with four (4) subfigures, one for each polynomial degree M = 1, 2, 3, 4. In each subfigure:\n",
    "    * (e.1) Draw the original scatter plot of x1 and y\n",
    "    * (e.2) Plot the curve of true function $f(x) = 9x^2 - x + 1$\n",
    "    * (e.3) Plot your fitted curve of degree M, observe how our model fits the data as M increases"
   ]
  },
  {
   "cell_type": "code",
   "execution_count": 74,
   "metadata": {
    "scrolled": true
   },
   "outputs": [
    {
     "data": {
      "image/png": "[encoded data removed]",
      "text/plain": [
       "<matplotlib.figure.Figure at 0x7fb0b661b490>"
      ]
     },
     "metadata": {},
     "output_type": "display_data"
    }
   ],
   "source": [
    "plt.figure(figsize = (20,15))\n",
    "\n",
    "f = lambda x: 9*x**2 - x + 1\n",
    "\n",
    "for M in range(1,5):\n",
    "    plt.subplot(330+M)   # Plot subfigure, M controls the location\n",
    "    x_fit = np.linspace(-1.0,1.5,100)  # For smoothing the fitted curve\n",
    "    y_fit = pd.DataFrame(np.matrix([x_fit**k for k in range(M+1)]).T,  # Generate our fitted curve\n",
    "                         columns = Params[M-1].index).mul(Params[M-1], 1).sum(1)  # 1 means computation runs row-wise\n",
    "    # Pay attention how we obtain the results by controlling the axes on which the operations are performed\n",
    "\n",
    "    y_future = 0\n",
    "    x_future = 1.0\n",
    "    for i in range(len(Params[M-1])):\n",
    "        y_future += Params[M-1][i] * (x_future**i)\n",
    "    plt.plot(H33.x1, H33.y, 'ro', markersize = 8)    # Red dots, the observations\n",
    "    plt.plot(x_fit, f(x_fit), 'g-', lw = 2)              # Green curve, the actual function f defined before\n",
    "    plt.plot(x_fit, y_fit, 'b--', lw = 2)                # Blue dashed line, our fitted curve\n",
    "    plt.plot(x_future, y_future, 'b*', markersize = 18)        # Blue star, fitted value\n",
    "    plt.plot(x_future, f(x_future), 'g*', markersize = 18)     # Green star, true value\n",
    "    plt.plot([x_future,x_future], [y_future, f(x_future)], 'k--', lw = 2)\n",
    "    plt.title('Degree M = %d'%(M), fontsize = 14)"
   ]
  },
  {
   "cell_type": "markdown",
   "metadata": {},
   "source": [
    "* (f) Based on the plot, which model(s) fits the true curve best? Then provide the best coefficients $\\hat w$"
   ]
  },
  {
   "cell_type": "markdown",
   "metadata": {},
   "source": [
    "2 Degree of Model is the best. The same as what I guessed. "
   ]
  },
  {
   "cell_type": "code",
   "execution_count": 78,
   "metadata": {},
   "outputs": [
    {
     "data": {
      "text/html": [
       "<div>\n",
       "<style>\n",
       "    .dataframe thead tr:only-child th {\n",
       "        text-align: right;\n",
       "    }\n",
       "\n",
       "    .dataframe thead th {\n",
       "        text-align: left;\n",
       "    }\n",
       "\n",
       "    .dataframe tbody tr th {\n",
       "        vertical-align: top;\n",
       "    }\n",
       "</style>\n",
       "<table border=\"1\" class=\"dataframe\">\n",
       "  <thead>\n",
       "    <tr style=\"text-align: right;\">\n",
       "      <th></th>\n",
       "      <th>y</th>\n",
       "      <th>x1</th>\n",
       "      <th>x2</th>\n",
       "      <th>x3</th>\n",
       "      <th>x4</th>\n",
       "    </tr>\n",
       "  </thead>\n",
       "  <tbody>\n",
       "    <tr>\n",
       "      <th>0</th>\n",
       "      <td>2.613388</td>\n",
       "      <td>-0.50</td>\n",
       "      <td>0.2500</td>\n",
       "      <td>-0.125000</td>\n",
       "      <td>0.062500</td>\n",
       "    </tr>\n",
       "    <tr>\n",
       "      <th>1</th>\n",
       "      <td>2.170351</td>\n",
       "      <td>-0.32</td>\n",
       "      <td>0.1024</td>\n",
       "      <td>-0.032768</td>\n",
       "      <td>0.010486</td>\n",
       "    </tr>\n",
       "    <tr>\n",
       "      <th>2</th>\n",
       "      <td>0.049546</td>\n",
       "      <td>-0.14</td>\n",
       "      <td>0.0196</td>\n",
       "      <td>-0.002744</td>\n",
       "      <td>0.000384</td>\n",
       "    </tr>\n",
       "    <tr>\n",
       "      <th>3</th>\n",
       "      <td>1.158258</td>\n",
       "      <td>0.04</td>\n",
       "      <td>0.0016</td>\n",
       "      <td>0.000064</td>\n",
       "      <td>0.000003</td>\n",
       "    </tr>\n",
       "    <tr>\n",
       "      <th>4</th>\n",
       "      <td>1.397567</td>\n",
       "      <td>0.22</td>\n",
       "      <td>0.0484</td>\n",
       "      <td>0.010648</td>\n",
       "      <td>0.002343</td>\n",
       "    </tr>\n",
       "  </tbody>\n",
       "</table>\n",
       "</div>"
      ],
      "text/plain": [
       "          y    x1      x2        x3        x4\n",
       "0  2.613388 -0.50  0.2500 -0.125000  0.062500\n",
       "1  2.170351 -0.32  0.1024 -0.032768  0.010486\n",
       "2  0.049546 -0.14  0.0196 -0.002744  0.000384\n",
       "3  1.158258  0.04  0.0016  0.000064  0.000003\n",
       "4  1.397567  0.22  0.0484  0.010648  0.002343"
      ]
     },
     "execution_count": 78,
     "metadata": {},
     "output_type": "execute_result"
    }
   ],
   "source": [
    "H33.head()"
   ]
  },
  {
   "cell_type": "code",
   "execution_count": 81,
   "metadata": {},
   "outputs": [
    {
     "name": "stdout",
     "output_type": "stream",
     "text": [
      "[[  0.18926499]\n",
      " [ 12.29841926]]\n"
     ]
    }
   ],
   "source": [
    "X = np.matrix(H33.loc[:,['x1','x2']])\n",
    "Y = np.matrix(H33.loc[:,['y']])\n",
    "w = (X.T * X).I * X.T * Y\n",
    "print(w)"
   ]
  },
  {
   "cell_type": "markdown",
   "metadata": {},
   "source": [
    "### Extra credit\n",
    "* (g) In each subfigure:\n",
    "    * (g.1) Pick an x value (at your discretion) $x_0$, then locate the y value both on your fitted curve and on our function curve ($f(x_0)$)\n",
    "    * (g.2) Mark these two points with a small diamond, then draw a dashed line connecting them, showing \"prediction error\"\n",
    "    * (g.3) Repeat g.1 and g.2 up to ten times (i.e. select up to ten random different future points and predict their values, compare your prediction with the true value), then:\n",
    "        * Compute the average sum of squares of errors $E = \\frac{\\sum_i^n (y_i - f(x_i))^2}{n}$ ($x_i$ denotes your future points), mention it in your subfigure's title (**Be sure to use the SAME future points for ALL 4 models when you calculate prediction error**)\n",
    "        * Which model has the smallest average error $E$? Does this fitted polynomial coincides with the M you picked in part f?"
   ]
  },
  {
   "cell_type": "code",
   "execution_count": null,
   "metadata": {},
   "outputs": [],
   "source": [
    "H33.head()"
   ]
  },
  {
   "cell_type": "code",
   "execution_count": null,
   "metadata": {
    "collapsed": true
   },
   "outputs": [],
   "source": []
  },
  {
   "cell_type": "code",
   "execution_count": null,
   "metadata": {
    "collapsed": true,
    "scrolled": true
   },
   "outputs": [],
   "source": [
    "H33.x1[5]"
   ]
  },
  {
   "cell_type": "code",
   "execution_count": null,
   "metadata": {
    "collapsed": true
   },
   "outputs": [],
   "source": []
  },
  {
   "cell_type": "code",
   "execution_count": null,
   "metadata": {
    "collapsed": true
   },
   "outputs": [],
   "source": []
  }
 ],
 "metadata": {
  "kernelspec": {
   "display_name": "Python 2",
   "language": "python",
   "name": "python2"
  },
  "language_info": {
   "codemirror_mode": {
    "name": "ipython",
    "version": 2
   },
   "file_extension": ".py",
   "mimetype": "text/x-python",
   "name": "python",
   "nbconvert_exporter": "python",
   "pygments_lexer": "ipython2",
   "version": "2.7.12"
  }
 },
 "nbformat": 4,
 "nbformat_minor": 1
}
